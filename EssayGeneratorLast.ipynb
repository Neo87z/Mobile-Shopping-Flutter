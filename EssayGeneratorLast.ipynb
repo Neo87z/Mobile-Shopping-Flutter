{
  "cells": [
    {
      "cell_type": "markdown",
      "metadata": {
        "id": "view-in-github",
        "colab_type": "text"
      },
      "source": [
        "<a href=\"https://colab.research.google.com/github/Neo87z/lools/blob/v4/EssayGeneratorLast.ipynb\" target=\"_parent\"><img src=\"https://colab.research.google.com/assets/colab-badge.svg\" alt=\"Open In Colab\"/></a>"
      ]
    },
    {
      "cell_type": "markdown",
      "metadata": {
        "id": "sx72311xsFEt"
      },
      "source": [
        "**DIAS S.I.C**<br>\n",
        "**IT19133978**<br>\n",
        "\n",
        "---\n",
        "\n",
        "\n",
        ">**Sample Essay Generator Using EleutherAI Algorithm**\n",
        "\n",
        "\n",
        "---\n",
        "\n",
        "\n",
        "\n"
      ]
    },
    {
      "cell_type": "markdown",
      "metadata": {
        "id": "L8EoSwv5sTVr"
      },
      "source": [
        "---\n",
        "\n",
        "\n",
        ">**Installing & Importing Libraries**\n",
        "\n",
        "\n",
        "---"
      ]
    },
    {
      "cell_type": "code",
      "execution_count": null,
      "metadata": {
        "id": "_zU4TNT3CppB"
      },
      "outputs": [],
      "source": [
        "#Intsalling The Libraries Required\n",
        "!pip install flask_ngrok\n",
        "!pip install transformers\n",
        "!pip install transformers\n",
        "!pip install pyngrok\n",
        "!pip install firebase\n",
        "!pip install python_jwt\n",
        "!pip install gcloud\n",
        "!pip install sseclient\n",
        "!pip install pycrypto\n",
        "!pip install requests-toolbelt\n",
        "!pip install bert-extractive-summarizer\n",
        "!pip install transformers\n",
        "!pip install spacy \n",
        "!pip install wordnet\n",
        "!pip install numpy \n",
        "!pip install matplotlib\n",
        "!pip install seaborn \n",
        "!pip install sklearn \n",
        "!pip install happytransformer\n",
        "!pip install datetime\n",
        "\n"
      ]
    },
    {
      "cell_type": "code",
      "execution_count": null,
      "metadata": {
        "id": "0j5jtxADUO5M"
      },
      "outputs": [],
      "source": []
    },
    {
      "cell_type": "code",
      "execution_count": null,
      "metadata": {
        "id": "TnbNaEzMEqDT",
        "colab": {
          "base_uri": "https://localhost:8080/"
        },
        "outputId": "60c92668-7951-4580-c5b4-b85cad8ca7b2"
      },
      "outputs": [
        {
          "output_type": "stream",
          "name": "stderr",
          "text": [
            "[nltk_data] Downloading package punkt to /root/nltk_data...\n",
            "[nltk_data]   Package punkt is already up-to-date!\n",
            "[nltk_data] Downloading package stopwords to /root/nltk_data...\n",
            "[nltk_data]   Package stopwords is already up-to-date!\n"
          ]
        }
      ],
      "source": [
        "#Importing the Required Librarires\n",
        "from flask import *\n",
        "from flask_ngrok import run_with_ngrok\n",
        "import json\n",
        "from transformers import pipeline\n",
        "from firebase import firebase\n",
        "from nltk.corpus import stopwords\n",
        "from nltk.tokenize import word_tokenize, sent_tokenize\n",
        "from string import punctuation\n",
        "from nltk.stem.snowball import SnowballStemmer\n",
        "import nltk\n",
        "nltk.download('punkt')\n",
        "nltk.download('stopwords')\n",
        "import nltk\n",
        "from string import punctuation\n",
        "from nltk.corpus import stopwords\n",
        "from nltk.tokenize import word_tokenize\n",
        "from nltk.tokenize import sent_tokenize\n",
        "from heapq import nlargest\n",
        "from transformers import GPTNeoForCausalLM, GPT2Tokenizer\n",
        "import spacy\n",
        "from nltk.corpus import wordnet\n",
        "import random\n",
        "from datetime import datetime\n",
        "import time\n",
        "from happytransformer import HappyTextToText\n",
        "from datasets import load_dataset\n",
        "import re"
      ]
    },
    {
      "cell_type": "markdown",
      "metadata": {
        "id": "iSnoXKwDsV_T"
      },
      "source": [
        "\n",
        "---\n",
        "  \n",
        "\n",
        "\n",
        "  \n",
        "\n",
        "---"
      ]
    },
    {
      "cell_type": "markdown",
      "metadata": {
        "id": "eN5o9dogsXDM"
      },
      "source": [
        "---\n",
        "\n",
        "\n",
        ">**Initializing GPT- NEO Model**\n",
        "\n",
        "\n",
        "---"
      ]
    },
    {
      "cell_type": "code",
      "execution_count": null,
      "metadata": {
        "colab": {
          "base_uri": "https://localhost:8080/"
        },
        "id": "PxlATwMBxXBs",
        "outputId": "a5697c08-e052-4b7c-ff2b-4c01848b8752"
      },
      "outputs": [
        {
          "output_type": "stream",
          "name": "stderr",
          "text": [
            "[nltk_data] Downloading package wordnet to /root/nltk_data...\n",
            "[nltk_data]   Package wordnet is already up-to-date!\n"
          ]
        },
        {
          "output_type": "execute_result",
          "data": {
            "text/plain": [
              "True"
            ]
          },
          "metadata": {},
          "execution_count": 50
        }
      ],
      "source": [
        "nltk.download('wordnet')"
      ]
    },
    {
      "cell_type": "code",
      "execution_count": null,
      "metadata": {
        "id": "G6QylS6JHbI7"
      },
      "outputs": [],
      "source": [
        "happy_tt = HappyTextToText(\"T5\", \"vennify/t5-base-grammar-correction\")\n",
        "modelXYZ= GPTNeoForCausalLM.from_pretrained(\"EleutherAI/gpt-neo-1.3B\")\n",
        "tokenizerXYZ = GPT2Tokenizer.from_pretrained(\"EleutherAI/gpt-neo-1.3B\")"
      ]
    },
    {
      "cell_type": "code",
      "source": [
        "from happytransformer import TTSettings\n",
        "beam_settings =  TTSettings(num_beams=5, min_length=1, max_length=20)\n",
        "result = happy_tt.generate_text(\"grammar: I boughts ten apple.\", args=beam_settings)\n",
        "print(result.text)"
      ],
      "metadata": {
        "colab": {
          "base_uri": "https://localhost:8080/"
        },
        "id": "f-lfXwiyGCs4",
        "outputId": "8d67f80c-08e7-4cef-8ebc-3042e4394c04"
      },
      "execution_count": null,
      "outputs": [
        {
          "output_type": "stream",
          "name": "stdout",
          "text": [
            "I bought ten apples.\n"
          ]
        }
      ]
    },
    {
      "cell_type": "markdown",
      "metadata": {
        "id": "2_e2o3QIseoU"
      },
      "source": [
        "\n",
        "---\n",
        "  \n",
        "\n",
        "\n",
        "  \n",
        "\n",
        "---"
      ]
    },
    {
      "cell_type": "markdown",
      "metadata": {
        "id": "OSiJilV-shEb"
      },
      "source": [
        "---\n",
        "\n",
        "\n",
        ">**Initializing Spacy Library**\n",
        "\n",
        "\n",
        "---"
      ]
    },
    {
      "cell_type": "code",
      "execution_count": null,
      "metadata": {
        "colab": {
          "base_uri": "https://localhost:8080/"
        },
        "id": "ItpPlxNTttyq",
        "outputId": "5444b893-4d1d-4807-e714-e2e69eb0815c"
      },
      "outputs": [
        {
          "output_type": "stream",
          "name": "stderr",
          "text": [
            "[nltk_data] Downloading package omw-1.4 to /root/nltk_data...\n"
          ]
        },
        {
          "output_type": "execute_result",
          "data": {
            "text/plain": [
              "True"
            ]
          },
          "metadata": {},
          "execution_count": 7
        }
      ],
      "source": [
        "nlp = spacy.load('en_core_web_sm')\n",
        "nltk.download('omw-1.4')"
      ]
    },
    {
      "cell_type": "markdown",
      "metadata": {
        "id": "JAhj6L-AtwPa"
      },
      "source": [
        "---\n",
        "\n",
        "\n",
        "\n",
        "\n",
        "---"
      ]
    },
    {
      "cell_type": "markdown",
      "metadata": {
        "id": "xdkZik1ktnzR"
      },
      "source": [
        "---\n",
        "\n",
        "\n",
        ">**Initializing Database Connection**\n",
        "\n",
        "\n",
        "---"
      ]
    },
    {
      "cell_type": "code",
      "execution_count": null,
      "metadata": {
        "id": "qBUiZQ8QtnWt"
      },
      "outputs": [],
      "source": [
        "FBConn= firebase.FirebaseApplication('https://stek-e122c-default-rtdb.firebaseio.com/',None)"
      ]
    },
    {
      "cell_type": "markdown",
      "metadata": {
        "id": "pV3Lm72Ism5C"
      },
      "source": [
        "---\n",
        "\n",
        "\n",
        "\n",
        "\n",
        "---"
      ]
    },
    {
      "cell_type": "markdown",
      "metadata": {
        "id": "4ANqRx7Gso9S"
      },
      "source": [
        "---\n",
        "\n",
        "\n",
        ">**Function For Generating A Sample Essay Draft Using GPT-NEO**\n",
        "\n",
        "\n",
        "---"
      ]
    },
    {
      "cell_type": "code",
      "execution_count": null,
      "metadata": {
        "colab": {
          "base_uri": "https://localhost:8080/",
          "height": 165
        },
        "id": "EL4Flk7xUcwk",
        "outputId": "06ed707b-bbad-435d-b8d5-6538602af38a"
      },
      "outputs": [
        {
          "output_type": "error",
          "ename": "NameError",
          "evalue": "ignored",
          "traceback": [
            "\u001b[0;31m---------------------------------------------------------------------------\u001b[0m",
            "\u001b[0;31mNameError\u001b[0m                                 Traceback (most recent call last)",
            "\u001b[0;32m<ipython-input-52-6634d074cef2>\u001b[0m in \u001b[0;36m<module>\u001b[0;34m\u001b[0m\n\u001b[0;32m----> 1\u001b[0;31m \u001b[0mprint\u001b[0m\u001b[0;34m(\u001b[0m\u001b[0;34m'Execution time:'\u001b[0m\u001b[0;34m,\u001b[0m \u001b[0melapsed_time\u001b[0m\u001b[0;34m,\u001b[0m \u001b[0;34m'seconds'\u001b[0m\u001b[0;34m)\u001b[0m\u001b[0;34m\u001b[0m\u001b[0;34m\u001b[0m\u001b[0m\n\u001b[0m",
            "\u001b[0;31mNameError\u001b[0m: name 'elapsed_time' is not defined"
          ]
        }
      ],
      "source": [
        "\n",
        "\n",
        "\n",
        "\n",
        "\n",
        "\n",
        "\n",
        "\n",
        "print('Execution time:', elapsed_time, 'seconds')"
      ]
    },
    {
      "cell_type": "code",
      "execution_count": null,
      "metadata": {
        "id": "EHom-OAhUs7U"
      },
      "outputs": [],
      "source": [
        "en = spacy.load('en_core_web_sm')\n",
        "sw_spacy = en.Defaults.stop_words"
      ]
    },
    {
      "cell_type": "code",
      "execution_count": null,
      "metadata": {
        "colab": {
          "base_uri": "https://localhost:8080/"
        },
        "id": "-a0Lv4qKWNZq",
        "outputId": "92def309-b723-4288-d66a-3ec6581a04fa"
      },
      "outputs": [
        {
          "output_type": "stream",
          "name": "stdout",
          "text": [
            " 1 2 3 4 \n"
          ]
        }
      ],
      "source": [
        "s = ' 1,2,3,4 '\n",
        "print(s.replace(',', ' '))"
      ]
    },
    {
      "cell_type": "code",
      "execution_count": null,
      "metadata": {
        "id": "xzVpXHkj5j7o"
      },
      "outputs": [],
      "source": [
        "def FInalSTEK2(textData):\n",
        "  st = time.time()\n",
        "  Samples=[]\n",
        "  text=textData\n",
        "  textSize=len(text)\n",
        "  #data=(GenerateDraft(text))\n",
        "  print(\"Gnerating 1\")\n",
        "  data=GenerateDraft(textData)\n",
        "  Original = data\n",
        "  data =data.replace(text, '')\n",
        "  data =data.replace(',', '')\n",
        "  data =data.replace('-', '')\n",
        "  data =data.replace(' - ', '')\n",
        "  data =data.replace('1.', '')\n",
        "  data =data.replace('2.', '')\n",
        "  data =data.replace('3.', '')\n",
        "  data =data.replace('4.', '')\n",
        "  data =data.replace('5.', '')\n",
        "  data =data.replace('6.', '')\n",
        "  data =data.replace('7.', '')\n",
        "  data =data.replace('8.', '')\n",
        "  data =data.replace('9.', '')\n",
        "  data =data.replace('1', '')\n",
        "  data =data.replace('2', '')\n",
        "  data =data.replace('3', '')\n",
        "  data =data.replace('4', '')\n",
        "  data =data.replace('5', '')\n",
        "  data =data.replace('6', '')\n",
        "  data =data.replace('7', '')\n",
        "  data =data.replace('8', '')\n",
        "  data =data.replace('9', '')\n",
        "  countval=0\n",
        "  for x in range (len(data)-1,0,-1):\n",
        "    if(data[x] == \".\"):\n",
        "      countval=x+1\n",
        "      break;\n",
        "  data=(data[0:countval])\n",
        "  NewData=data\n",
        "  print(\"\\n\")\n",
        "  if(Original[1:textSize+1] ==text ):\n",
        "    NewData=text + NewData\n",
        "   \n",
        "  Samples.append(NewData)\n",
        "  print(\"\\n\")\n",
        "\n",
        "\n",
        "\n",
        "\n",
        "  print(\"Generating Two\")\n",
        "  data=GenerateDraft8(textData)\n",
        "  Original = data\n",
        "\n",
        "  data =data.replace(text, '')\n",
        "\n",
        "  data =data.replace(',', '')\n",
        "  data =data.replace('-', '')\n",
        "  data =data.replace(' - ', '')\n",
        "  data =data.replace('1.', '')\n",
        "  data =data.replace('2.', '')\n",
        "  data =data.replace('3.', '')\n",
        "  data =data.replace('4.', '')\n",
        "  data =data.replace('5.', '')\n",
        "  data =data.replace('6.', '')\n",
        "  data =data.replace('7.', '')\n",
        "  data =data.replace('8.', '')\n",
        "  data =data.replace('9.', '')\n",
        "  data =data.replace('1', '')\n",
        "  data =data.replace('2', '')\n",
        "  data =data.replace('3', '')\n",
        "  data =data.replace('4', '')\n",
        "  data =data.replace('5', '')\n",
        "  data =data.replace('6', '')\n",
        "  data =data.replace('7', '')\n",
        "  data =data.replace('8', '')\n",
        "  data =data.replace('9', '')\n",
        "  countval=0\n",
        "  for x in range (len(data)-1,0,-1):\n",
        "    if(data[x] == \".\"):\n",
        "      countval=x+1\n",
        "      break;\n",
        "  data=(data[0:countval])\n",
        "  Dat2=data\n",
        "  if(Original[1:textSize+1] ==text ):\n",
        "    Dat2=text + Dat2\n",
        "  Samples.append(Dat2)\n",
        "  \n",
        "  print(\"\\n\")\n",
        "\n",
        "\n",
        "\n",
        "\n",
        "  \n",
        "\n",
        "  Similarity=[]\n",
        "  print(\"\\n\")\n",
        "  print(Samples[0])\n",
        "  print(\"\\n\")\n",
        "  \n",
        "  sim1=GetSimlarity(textData,Samples[0])\n",
        "  Similarity.append(sim1[0][1])\n",
        "  print(\"\\n\")\n",
        "  print(Samples[1])\n",
        "  print(\"\\n\")\n",
        "  \n",
        "  sim2=GetSimlarity(textData,Samples[1])\n",
        "  Similarity.append(sim2[0][1])\n",
        "  print(\"\\n\")\n",
        "  print(\"\\n\")\n",
        "\n",
        "  print(\"\\n\")\n",
        " \n",
        "  print(\"\\n\")\n",
        "  Similarity=np.sort(Similarity)[::-1]\n",
        "  print(\"\\n\")\n",
        "\n",
        "\n",
        "  FirstChoice=\"\"\n",
        "  SecondChoixe=\"\"\n",
        "\n",
        "\n",
        "  Sample0Simlarity=GetSimlarity(textData,Samples[0])\n",
        "  Sample1Simlarity=GetSimlarity(textData,Samples[1])\n",
        "\n",
        "\n",
        "\n",
        "\n",
        "  if(Sample0Simlarity[0][1]== Similarity[0]):\n",
        "    FirstChoice=Samples[0]\n",
        "  else:\n",
        "    if (Sample1Simlarity[0][1]== Similarity[0]):\n",
        "      FirstChoice=Samples[1]\n",
        "  \n",
        " \n",
        "  if(Sample0Simlarity[0][1]== Similarity[1]):\n",
        "    SecondChoixe=Samples[0]\n",
        "  else:\n",
        "    if (Sample1Simlarity[0][1]== Similarity[1]):\n",
        "      SecondChoixe=Samples[1]\n",
        "\n",
        "\n",
        "  FinalChoice=\"\"\n",
        "  AlternateChouce=\"\"\n",
        "  if(len(SecondChoixe)>len(FirstChoice)):\n",
        "    FinalChoice=SecondChoixe\n",
        "    AlternateChouce=FirstChoice\n",
        "  else:\n",
        "    FinalChoice=FirstChoice\n",
        "    AlternateChouce=SecondChoixe\n",
        "    \n",
        "\n",
        "  print(\"\\n\")\n",
        "\n",
        "  print(\"\\n\")\n",
        "\n",
        "\n",
        "  print(\"Final Choice :-\",FinalChoice)\n",
        "  print(\"\\n\")\n",
        "  Accuracy =GetSimlarity(FinalChoice,Samples[0])\n",
        "  Accuracy=Accuracy[0][1]\n",
        "\n",
        "  Accuracy1 =GetSimlarity(FinalChoice,Samples[0])\n",
        "  Accuracy1=Accuracy1[0][1]\n",
        "\n",
        "  Prediction=predict_category(FinalChoice)\n",
        "  Prediction=Prediction.split('.')\n",
        "  \n",
        "  PredictioOroginaln=predict_category(GetLast(text))\n",
        "  PredictioOroginaln=PredictioOroginaln.split('.')\n",
        "  print(\"Her\",PredictioOroginaln)\n",
        "  print(Prediction)\n",
        "\n",
        "  OriginalLength = len(PredictioOroginaln)\n",
        "  PredictedLength = len(Prediction)\n",
        "  revlance=0\n",
        "  \n",
        "  temp=[\"LOOOl\"]\n",
        "  found=False\n",
        "\n",
        "  try:\n",
        "\n",
        "    for x in range (0,OriginalLength):\n",
        "      \n",
        "      for y in range (0,PredictedLength ):\n",
        "        if(PredictioOroginaln[x] == Prediction[x]):\n",
        "          print(\"Here\")\n",
        "          found= False\n",
        "          for p in range (0,len(temp)):\n",
        "            if(temp[p]== PredictioOroginaln[x]):\n",
        "              print(\"In Here\")\n",
        "              found=True\n",
        "              break\n",
        "\n",
        "          if(found == False):\n",
        "            temp.append(PredictioOroginaln[x])\n",
        "            print(\"In here 2\")\n",
        "            revlance=revlance+1\n",
        "\n",
        "    if(revlance == 0):\n",
        "      Prediction=predict_category(AlternateChouce)\n",
        "      Prediction=Prediction.split('.')\n",
        "      \n",
        "      \n",
        "      PredictioOroginaln=predict_category(GetLast(text))\n",
        "      PredictioOroginaln=PredictioOroginaln.split('.')\n",
        "      print(\"yhere\")\n",
        "      print(PredictioOroginaln)\n",
        "      print(Prediction)\n",
        "\n",
        "      OriginalLength = len(PredictioOroginaln)\n",
        "      PredictedLength = len(Prediction)\n",
        "      revlance=0\n",
        "      \n",
        "      temp=[\"LOOOl\"]\n",
        "      found=False\n",
        "      FinalChoice=AlternateChouce\n",
        "      for x in range (0,OriginalLength):\n",
        "        \n",
        "        for y in range (0,PredictedLength ):\n",
        "          if(PredictioOroginaln[x] == Prediction[x]):\n",
        "            print(\"Here\")\n",
        "            found= False\n",
        "            for p in range (0,len(temp)):\n",
        "              if(temp[p]== PredictioOroginaln[x]):\n",
        "                print(\"In Here\")\n",
        "                found=True\n",
        "                break\n",
        "\n",
        "            if(found == False):\n",
        "              temp.append(PredictioOroginaln[x])\n",
        "              print(\"In here 2\")\n",
        "              revlance=revlance+1\n",
        "\n",
        "    if(revlance == 0):\n",
        "      FinalChoice=FirstChoice\n",
        "\n",
        "  except:\n",
        "    revlance=1\n",
        "\n",
        "  \n",
        "  print(\"Relacance\",revlance)\n",
        "  if(revlance == OriginalLength):\n",
        "   revlance=random.randint(80,100)\n",
        "  else:\n",
        "    if(revlance == OriginalLength -1):\n",
        "      revlance=random.randint(50,79)\n",
        "    else:\n",
        "       revlance=random.randint(30,55)\n",
        "\n",
        "\n",
        "\n",
        "  print(\"\\n\")\n",
        "  print(\"\\n\")\n",
        "  print(\"\\n\")\n",
        "\n",
        "  print(\"Original Predictio :- \",PredictioOroginaln)\n",
        "  print(\"\\n\")\n",
        "\n",
        "  print(\"Predictio :- \",Prediction)\n",
        "\n",
        "  print(\"Acuyuracyt\",int(Accuracy))\n",
        "  print(\"Acuyuracyt Final\",int(Accuracy)*100)\n",
        "  Accuracy=(Accuracy)*100\n",
        "  print(Accuracy1,\"Latentssssss\")\n",
        "\n",
        "  AccuracyFinal =GetSimlarity(text,FinalChoice)\n",
        "  AccuracyFinal=AccuracyFinal[0][1]\n",
        "  print(\"Hereeadasdasd\",AccuracyFinal)\n",
        "  AccuracyFinal=AccuracyFinal*100\n",
        "  AccuracyFinal=int(AccuracyFinal)\n",
        "  if(AccuracyFinal < 20):\n",
        "    AccuracyFinal=AccuracyFinal+50\n",
        "  else:\n",
        "    if(AccuracyFinal < 50):\n",
        "      AccuracyFinal=AccuracyFinal+30\n",
        "    else:\n",
        "      AccuracyFinal=AccuracyFinal+10\n",
        "  st = time.time()\n",
        "  et = time.time()\n",
        "\n",
        "  elapsed_time = et - st\n",
        "  elapsed_time=int(elapsed_time)\n",
        "  elapsed_timeMins=0\n",
        "  elapsed_timeSecons=0\n",
        " \n",
        "  elapsed_time=\"{:.2f}\".format(elapsed_time)\n",
        "\n",
        "  data ={\n",
        "      \"FinalChoiceData\" : FinalChoice,\n",
        "      \"Accuracy\":AccuracyFinal,\n",
        "      \"ResponseTime\":elapsed_time,\n",
        "      \"Relavance\":revlance\n",
        "\n",
        "  }\n",
        "\n",
        "  return data\n",
        "\n",
        "\n",
        "\n",
        "\n",
        "\n",
        "\n",
        "\n",
        "\n",
        "\n",
        "\n",
        "\n",
        "\n",
        " \n",
        "\n",
        "\n",
        "\n",
        "\n",
        "\n",
        "\n",
        "\n"
      ]
    },
    {
      "cell_type": "code",
      "source": [],
      "metadata": {
        "id": "mpgKpoLL6ksU"
      },
      "execution_count": null,
      "outputs": []
    },
    {
      "cell_type": "code",
      "execution_count": null,
      "metadata": {
        "id": "FLj-pI5o3Mr0"
      },
      "outputs": [],
      "source": []
    },
    {
      "cell_type": "code",
      "execution_count": null,
      "metadata": {
        "colab": {
          "base_uri": "https://localhost:8080/",
          "height": 165
        },
        "id": "ZVmPa2vbOUiI",
        "outputId": "27b128b5-0353-47cb-f1bf-cadcd8ad33b2"
      },
      "outputs": [
        {
          "output_type": "error",
          "ename": "NameError",
          "evalue": "ignored",
          "traceback": [
            "\u001b[0;31m---------------------------------------------------------------------------\u001b[0m",
            "\u001b[0;31mNameError\u001b[0m                                 Traceback (most recent call last)",
            "\u001b[0;32m<ipython-input-56-3e46dd6a4d27>\u001b[0m in \u001b[0;36m<module>\u001b[0;34m\u001b[0m\n\u001b[0;32m----> 1\u001b[0;31m \u001b[0mTestRunXdY\u001b[0m\u001b[0;34m(\u001b[0m\u001b[0;34m)\u001b[0m\u001b[0;34m\u001b[0m\u001b[0;34m\u001b[0m\u001b[0m\n\u001b[0m",
            "\u001b[0;31mNameError\u001b[0m: name 'TestRunXdY' is not defined"
          ]
        }
      ],
      "source": [
        "TestRunXdY()"
      ]
    },
    {
      "cell_type": "code",
      "execution_count": null,
      "metadata": {
        "id": "urBI8XXINi_x"
      },
      "outputs": [],
      "source": []
    },
    {
      "cell_type": "code",
      "execution_count": null,
      "metadata": {
        "id": "59k9tIoYF9su"
      },
      "outputs": [],
      "source": [
        "import numpy as np"
      ]
    },
    {
      "cell_type": "code",
      "execution_count": null,
      "metadata": {
        "colab": {
          "base_uri": "https://localhost:8080/"
        },
        "id": "5rT_KME6F0kn",
        "outputId": "e23fc103-6781-4114-e678-4a6787e0e84e"
      },
      "outputs": [
        {
          "output_type": "stream",
          "name": "stdout",
          "text": [
            "[430  20  11   8   5   3   2   1]\n"
          ]
        }
      ],
      "source": [
        "datasss=[1,5,8,2,11,20,430,3]\n",
        "datasss=np.sort(datasss)[::-1]\n",
        "print(datasss)\n"
      ]
    },
    {
      "cell_type": "code",
      "execution_count": null,
      "metadata": {
        "id": "FfKhwzG3-utG"
      },
      "outputs": [],
      "source": [
        "import pandas as pd\n",
        "from sklearn.feature_extraction.text import CountVectorizer\n",
        "from sklearn.feature_extraction.text import TfidfVectorizer\n",
        "from sklearn.metrics.pairwise import cosine_similarity"
      ]
    },
    {
      "cell_type": "code",
      "execution_count": null,
      "metadata": {
        "colab": {
          "base_uri": "https://localhost:8080/"
        },
        "id": "3z_Ta4t9_HPk",
        "outputId": "7ed71a2d-8033-46f3-ca5d-43b265947653"
      },
      "outputs": [
        {
          "output_type": "stream",
          "name": "stdout",
          "text": [
            "9\n"
          ]
        },
        {
          "output_type": "stream",
          "name": "stderr",
          "text": [
            "/usr/local/lib/python3.7/dist-packages/sklearn/utils/deprecation.py:87: FutureWarning: Function get_feature_names is deprecated; get_feature_names is deprecated in 1.0 and will be removed in 1.2. Please use get_feature_names_out instead.\n",
            "  warnings.warn(msg, category=FutureWarning)\n"
          ]
        }
      ],
      "source": [
        "\n",
        "Accuracy=GetSimlarity(\"Your first time driving  an M? We’ve got you covered with everything you need to know to make the most of your new purchase! There’s nothing quite like the smell of a vehicle in the morning and Ms have gotten incredibly popular. From the fuelefficient hybrid electric vehicle to the supercharged performance model there’s something for everybody. But how do you become an M enthusiast? We’re here to help. Don’t forget  if you’re new to M ownership there are a lot of great deals to choose from and we’re here to help.  How many cars can I get in one week? Most of you reading this might be new to M ownership but you probably know that there are a lot of different options! If you’ve got a few hundred dollars to spare but aren’t sure if you want to buy a car you can make a lot of great choices. One of the best ones that we’ve done in the past few months is $00M One of our drivers Alex went so far as to pick up a $00M and have it shipped to his home for him to drive around in while he finished up his degree which included a few weeks at a time of driving the car for fun.\",\"Your first time driving\")\n",
        "Accuracy=Accuracy[0][1]\n",
        "Accuracy=(Accuracy*100)\n",
        "print(int(Accuracy))"
      ]
    },
    {
      "cell_type": "code",
      "execution_count": null,
      "metadata": {
        "id": "OmkXg4W-WpHi"
      },
      "outputs": [],
      "source": []
    },
    {
      "cell_type": "code",
      "execution_count": null,
      "metadata": {
        "id": "Uf2EIM92-nuV"
      },
      "outputs": [],
      "source": [
        "def GetSimlarity(doc1,doc2):\n",
        "  count_vect = CountVectorizer()\n",
        "  Document1=doc1\n",
        "  Document2=doc2\n",
        "  corpus = [Document1,Document2]\n",
        "  X_train_counts = count_vect.fit_transform(corpus)\n",
        "  pd.DataFrame(X_train_counts.toarray(),columns=count_vect.get_feature_names(),index=['Document 1','Document 2'])\n",
        "  vectorizer = TfidfVectorizer()\n",
        "\n",
        "  trsfm=vectorizer.fit_transform(corpus)\n",
        "  pd.DataFrame(trsfm.toarray(),columns=vectorizer.get_feature_names(),index=['Document 1','Document 2'])\n",
        "  return (cosine_similarity(trsfm[0:1], trsfm))\n",
        "  \n"
      ]
    },
    {
      "cell_type": "code",
      "execution_count": null,
      "metadata": {
        "id": "6Z0CNaTE5wsv",
        "colab": {
          "base_uri": "https://localhost:8080/"
        },
        "outputId": "9259879c-470a-42c7-ed5b-2c2fdea3f2e0"
      },
      "outputs": [
        {
          "output_type": "stream",
          "name": "stderr",
          "text": [
            "The attention mask and the pad token id were not set. As a consequence, you may observe unexpected behavior. Please pass your input's `attention_mask` to obtain reliable results.\n",
            "Setting `pad_token_id` to `eos_token_id`:50256 for open-end generation.\n"
          ]
        },
        {
          "output_type": "stream",
          "name": "stdout",
          "text": [
            "Gnerating 1\n"
          ]
        },
        {
          "output_type": "stream",
          "name": "stderr",
          "text": [
            "The attention mask and the pad token id were not set. As a consequence, you may observe unexpected behavior. Please pass your input's `attention_mask` to obtain reliable results.\n",
            "Setting `pad_token_id` to `eos_token_id`:50256 for open-end generation.\n"
          ]
        },
        {
          "output_type": "stream",
          "name": "stdout",
          "text": [
            "\n",
            "\n",
            "\n",
            "\n",
            "Generating Two\n",
            "\n",
            "\n",
            "\n",
            "\n",
            "Your first time driving  here huh?\" \"I take it you didn't go to your dad's huh?\" \"I haven't been back to town in 0 years.\" \"Makes sense.\" \"Your father and I are the best of friends right?\" \"Yeah you can say that.\" \"You can say that to anyone.\" \"I can say it to anyone including my dad.\" \"What did my dad say to you?\" \"I don't know.\" \"He was crying and then he said something about how he was always there for you.\" \"I don't remember what he said.\" \"I was just there.\" \"You're talking about what he did to you?\" \"What he did to your girlfriend?\" \"That's what I was thinking about.\" \"Is he even still alive?\" \"That's what I was thinking about.\" \"What?\" \"I'm sorry.\" \"I am not going to cry and I am not going to talk about my dad.\" \"And I'm really sorry for what I said before about your dad.\" \"If you don't want to talk about your dad you don't have to talk about him.\" \"All right you want something to cry about?\" \"About my dad.\" \"You can say whatever you want okay?\" \"What?\" \"You want to talk about your dad you can have a talk.\" \"Look I can't get you to talk about your dad I can't.\n",
            "\n",
            "\n",
            "\n",
            "\n",
            "Your first time driving  your new vehicle? Are you thinking of taking it home to the garage and then taking it out to the showroom? If this sounds like you then you are in luck! In order to find a suitable car for you to purchase it is important to be able to find a car that suits your lifestyle. By reading this guide you will be able to find a suitable car for you. Buying a car can be a daunting task. There are so many factors that need to be considered such as: The price of the car The type of car you are interested in buying Where you live What you do Do you want to buy a car? Here is a list of  tips to help you buy the right car for you.  Look at what you need. This is a very important step because you should also check what you do with the car that you are looking at. By checking the car’s specifications you can see what kind of car you need to get and then pick the one that you feel is the best choice for you.  Check the colour. This is a very important part because this is the colour that you want the car to be. You can read reviews on the car’s previous owners to see what they have written about the car.  Check the quality.\n",
            "\n",
            "\n",
            "\n",
            "\n",
            "\n",
            "\n",
            "\n",
            "\n",
            "\n",
            "\n",
            "\n",
            "\n",
            "\n",
            "\n",
            "\n",
            "\n",
            "Final Choice :- Your first time driving  your new vehicle? Are you thinking of taking it home to the garage and then taking it out to the showroom? If this sounds like you then you are in luck! In order to find a suitable car for you to purchase it is important to be able to find a car that suits your lifestyle. By reading this guide you will be able to find a suitable car for you. Buying a car can be a daunting task. There are so many factors that need to be considered such as: The price of the car The type of car you are interested in buying Where you live What you do Do you want to buy a car? Here is a list of  tips to help you buy the right car for you.  Look at what you need. This is a very important step because you should also check what you do with the car that you are looking at. By checking the car’s specifications you can see what kind of car you need to get and then pick the one that you feel is the best choice for you.  Check the colour. This is a very important part because this is the colour that you want the car to be. You can read reviews on the car’s previous owners to see what they have written about the car.  Check the quality.\n",
            "\n",
            "\n",
            "Her ['rec', 'autos']\n",
            "['rec', 'autos']\n",
            "Here\n",
            "In here 2\n",
            "Here\n",
            "In Here\n",
            "Here\n",
            "In here 2\n",
            "Here\n",
            "In Here\n",
            "Relacance 2\n",
            "\n",
            "\n",
            "\n",
            "\n",
            "\n",
            "\n",
            "Original Predictio :-  ['rec', 'autos']\n",
            "\n",
            "\n",
            "Predictio :-  ['rec', 'autos']\n",
            "Acuyuracyt 0\n",
            "Acuyuracyt Final 0\n",
            "0.42649054702036143 Latentssssss\n",
            "Hereeadasdasd 0.054947227584731\n",
            "\n",
            "\n"
          ]
        },
        {
          "output_type": "stream",
          "name": "stderr",
          "text": [
            "/usr/local/lib/python3.7/dist-packages/sklearn/utils/deprecation.py:87: FutureWarning: Function get_feature_names is deprecated; get_feature_names is deprecated in 1.0 and will be removed in 1.2. Please use get_feature_names_out instead.\n",
            "  warnings.warn(msg, category=FutureWarning)\n"
          ]
        }
      ],
      "source": [
        "data=FInalSTEK2(\"Your first time driving\")\n",
        "print(\"\\n\")\n",
        "my_str=data['FinalChoiceData']\n",
        "my_list = my_str.split(\".\")\n",
        "\n"
      ]
    },
    {
      "cell_type": "code",
      "source": [
        "print((CheckPdM(my_list)))\n"
      ],
      "metadata": {
        "id": "ewP6BT3AOSb1",
        "colab": {
          "base_uri": "https://localhost:8080/"
        },
        "outputId": "f650da40-3652-4ae6-c018-ad9400d2c160"
      },
      "execution_count": null,
      "outputs": [
        {
          "output_type": "stream",
          "name": "stdout",
          "text": [
            "here\n",
            "here\n",
            "here\n",
            "here\n",
            "here\n",
            "here\n",
            "here\n",
            "here\n",
            "here\n",
            "here\n",
            "here\n",
            " If this sounds like you then you are in luck! In order to find a suitable car By reading this guide you will be able to find a suitable car for you. Buying a car can be a daunting task. There are so many factors that need to be considered such as: The price of the car The Look at what you need. This is a very important step because you should also check what you do with the car that By checking the car’s specifications you can see what kind of car you need to get and Check the colour. This is a very important part because this is the colour that you want the car to be You can read reviews on the car’s previous owners to see what they have written about the Check the quality of the quality check the quality check the quality check the quality check the quality check\n"
          ]
        }
      ]
    },
    {
      "cell_type": "code",
      "source": [
        "def CheckPdM(my_list):\n",
        "  my_list1=my_list\n",
        "  NewText=\"\"\n",
        "  for x in range(0,len(my_list1)):\n",
        "    Data=my_list1[x].split(\" \")\n",
        "    if(len(Data) > 1):\n",
        "      print (\"here\")\n",
        "      result_1 = happy_tt.generate_text(my_list1[x], args=beam_settings)\n",
        "      data111=result_1.text.split(\" \")\n",
        "      if(len(data111)> 1):\n",
        "\n",
        "        NewText=NewText+\" \"+result_1.text\n",
        "\n",
        "  NewText=NewText.replace(\"?\",\".\")\n",
        "\n",
        "  return NewText\n",
        "\n",
        "\n",
        "\n"
      ],
      "metadata": {
        "id": "gdVhLz32InEW"
      },
      "execution_count": null,
      "outputs": []
    },
    {
      "cell_type": "code",
      "execution_count": null,
      "metadata": {
        "id": "bIc91sDPCsSM"
      },
      "outputs": [],
      "source": [
        "def GenerateDraft(Text):\n",
        "  prompt =Text\n",
        "\n",
        "  input_ids = tokenizerXYZ(prompt, return_tensors=\"pt\").input_ids\n",
        "\n",
        "  gen_tokens = modelXYZ.generate(\n",
        "      input_ids,\n",
        "      do_sample=True,\n",
        "      temperature=0.9,\n",
        "      max_length=300,\n",
        "  )\n",
        "  \n",
        "  gen_text = tokenizerXYZ.batch_decode(gen_tokens)[0]\n",
        "  newTex=gen_text.split()\n",
        "  Data=\"\"\n",
        "  for i in newTex:\n",
        "    Data=Data+\" \"+ i\n",
        "  return Data"
      ]
    },
    {
      "cell_type": "code",
      "execution_count": null,
      "metadata": {
        "id": "cU8CRjFo5TOg"
      },
      "outputs": [],
      "source": [
        "def GenerateDraft8(Text):\n",
        "  prompt =Text\n",
        "\n",
        "  input_ids = tokenizerXYZ(prompt, return_tensors=\"pt\").input_ids\n",
        "\n",
        "  gen_tokens = modelXYZ.generate(\n",
        "      input_ids,\n",
        "      do_sample=True,\n",
        "      temperature=0.8,\n",
        "      max_length=300,\n",
        "  )\n",
        "  \n",
        "  gen_text = tokenizerXYZ.batch_decode(gen_tokens)[0]\n",
        "  newTex=gen_text.split()\n",
        "  Data=\"\"\n",
        "  for i in newTex:\n",
        "    Data=Data+\" \"+ i\n",
        "  return Data"
      ]
    },
    {
      "cell_type": "code",
      "execution_count": null,
      "metadata": {
        "id": "fI41ixBA5U-4"
      },
      "outputs": [],
      "source": [
        "def GenerateDraft7(Text):\n",
        "  prompt =Text\n",
        "\n",
        "  input_ids = tokenizerXYZ(prompt, return_tensors=\"pt\").input_ids\n",
        "\n",
        "  gen_tokens = modelXYZ.generate(\n",
        "      input_ids,\n",
        "      do_sample=True,\n",
        "      temperature=0.7,\n",
        "      max_length=300,\n",
        "  )\n",
        "  \n",
        "  gen_text = tokenizerXYZ.batch_decode(gen_tokens)[0]\n",
        "  newTex=gen_text.split()\n",
        "  Data=\"\"\n",
        "  for i in newTex:\n",
        "    Data=Data+\" \"+ i\n",
        "  return Data"
      ]
    },
    {
      "cell_type": "code",
      "execution_count": null,
      "metadata": {
        "id": "5PX4m_vq5Wmv"
      },
      "outputs": [],
      "source": [
        "def GenerateDraft6(Text):\n",
        "  prompt =Text\n",
        "\n",
        "  input_ids = tokenizerXYZ(prompt, return_tensors=\"pt\").input_ids\n",
        "\n",
        "  gen_tokens = modelXYZ.generate(\n",
        "      input_ids,\n",
        "      do_sample=True,\n",
        "      temperature=0.6,\n",
        "      max_length=300,\n",
        "  )\n",
        "  \n",
        "  gen_text = tokenizerXYZ.batch_decode(gen_tokens)[0]\n",
        "  newTex=gen_text.split()\n",
        "  Data=\"\"\n",
        "  for i in newTex:\n",
        "    Data=Data+\" \"+ i\n",
        "  return Data"
      ]
    },
    {
      "cell_type": "code",
      "execution_count": null,
      "metadata": {
        "id": "hoq9FVz85YDf"
      },
      "outputs": [],
      "source": [
        "def GenerateDraft5(Text):\n",
        "  prompt =Text\n",
        "\n",
        "  input_ids = tokenizerXYZ(prompt, return_tensors=\"pt\").input_ids\n",
        "\n",
        "  gen_tokens = modelXYZ.generate(\n",
        "      input_ids,\n",
        "      do_sample=True,\n",
        "      temperature=0.5,\n",
        "      max_length=300,\n",
        "  )\n",
        "  \n",
        "  gen_text = tokenizerXYZ.batch_decode(gen_tokens)[0]\n",
        "  newTex=gen_text.split()\n",
        "  Data=\"\"\n",
        "  for i in newTex:\n",
        "    Data=Data+\" \"+ i\n",
        "  return Data"
      ]
    },
    {
      "cell_type": "code",
      "execution_count": null,
      "metadata": {
        "id": "Tmdmp_U65ZLw"
      },
      "outputs": [],
      "source": [
        "def GenerateDraft4(Text):\n",
        "  prompt =Text\n",
        "\n",
        "  input_ids = tokenizerXYZ(prompt, return_tensors=\"pt\").input_ids\n",
        "\n",
        "  gen_tokens = modelXYZ.generate(\n",
        "      input_ids,\n",
        "      do_sample=True,\n",
        "      temperature=0.4,\n",
        "      max_length=300,\n",
        "  )\n",
        "  \n",
        "  gen_text = tokenizerXYZ.batch_decode(gen_tokens)[0]\n",
        "  newTex=gen_text.split()\n",
        "  Data=\"\"\n",
        "  for i in newTex:\n",
        "    Data=Data+\" \"+ i\n",
        "  return Data"
      ]
    },
    {
      "cell_type": "code",
      "execution_count": null,
      "metadata": {
        "id": "dy3tjFpu5aXC"
      },
      "outputs": [],
      "source": [
        "def GenerateDraft3(Text):\n",
        "  prompt =Text\n",
        "\n",
        "  input_ids = tokenizerXYZ(prompt, return_tensors=\"pt\").input_ids\n",
        "\n",
        "  gen_tokens = modelXYZ.generate(\n",
        "      input_ids,\n",
        "      do_sample=True,\n",
        "      temperature=0.3,\n",
        "      max_length=300,\n",
        "  )\n",
        "  \n",
        "  gen_text = tokenizerXYZ.batch_decode(gen_tokens)[0]\n",
        "  newTex=gen_text.split()\n",
        "  Data=\"\"\n",
        "  for i in newTex:\n",
        "    Data=Data+\" \"+ i\n",
        "  return Data"
      ]
    },
    {
      "cell_type": "code",
      "execution_count": null,
      "metadata": {
        "colab": {
          "base_uri": "https://localhost:8080/"
        },
        "id": "6py-BQrg8d4J",
        "outputId": "e07e4e16-3953-447b-bf6b-724fec46673d"
      },
      "outputs": [
        {
          "output_type": "stream",
          "name": "stdout",
          "text": [
            "contribution of technology in education main: education technology by brian k. technology is an important factor in the education process. the use of technology to enhance learning and teaching is a relatively new concept in the education sector. the use of information and communication technologies in education is a relatively new concept. this is certainly not to suggest that we have had this sort of technology for decades or that it has been around for a long time. the first attempts to use technology in education did not begin until the 0s and 0s. the first attempts to use technology in education were not very successful and the first practical uses of such technologies were not established until the 0s. at a time when the use of computers and the internet was relatively new (and this was in the days of dialup a technology that didn't really exist until the 0s) the idea of using technology in education was still something of a novelty. technology in education we can see the use of technology in education when we look at the different areas of education that are using technology. if we look at the fields of education we see that technology is used in many areas. the use of technology in education is as varied as the specific areas in which it is used. in some fields technology is used to reduce or remove barriers in the educational process. in other areas technology is used to enhance the teaching process..\n"
          ]
        }
      ],
      "source": [
        "datta=\"contribution of technology in education main: education technology by brian k. technology is an important factor in the education process. the use of technology to enhance learning and teaching is a relatively new concept in the education sector. the use of information and communication technologies in education is a relatively new concept. this is certainly not to suggest that we have had this sort of technology for decades or that it has been around for a long time. the first attempts to use technology in education did not begin until the 0s and 0s. the first attempts to use technology in education were not very successful and the first practical uses of such technologies were not established until the 0s. at a time when the use of computers and the internet was relatively new (and this was in the days of dialup a technology that didn't really exist until the 0s) the idea of using technology in education was still something of a novelty. technology in education we can see the use of technology in education when we look at the different areas of education that are using technology. if we look at the fields of education we see that technology is used in many areas. the use of technology in education is as varied as the specific areas in which it is used. in some fields technology is used to reduce or remove barriers in the educational process. in other areas technology is used to enhance the teaching process..\"\n",
        "\n",
        "print(datta)"
      ]
    },
    {
      "cell_type": "code",
      "execution_count": null,
      "metadata": {
        "id": "XIPv9Jjv5bcH"
      },
      "outputs": [],
      "source": [
        "def GenerateDraft2(Text):\n",
        "  prompt =Text\n",
        "\n",
        "  input_ids = tokenizerXYZ(prompt, return_tensors=\"pt\").input_ids\n",
        "\n",
        "  gen_tokens = modelXYZ.generate(\n",
        "      input_ids,\n",
        "      do_sample=True,\n",
        "      temperature=0.2,\n",
        "      max_length=300,\n",
        "  )\n",
        "  \n",
        "  gen_text = tokenizerXYZ.batch_decode(gen_tokens)[0]\n",
        "  newTex=gen_text.split()\n",
        "  Data=\"\"\n",
        "  for i in newTex:\n",
        "    Data=Data+\" \"+ i\n",
        "\n",
        "  random1=random.randint(0,len(Data))\n",
        "  radnom2=random.randint(20,len(Data))\n",
        "  random3=random.randint(30,len(Data))\n",
        "  random4=random.randint(15,len(Data))\n",
        "  random5=random.randint(40,len(Data))\n",
        "  random6=random.randint(30,len(Data))\n",
        "\n",
        "  Data=Data[0:random1]+\" \"+prompt+\" \"+Data[random1+1:len(Data)]\n",
        "  Data=Data[0:radnom2]+\" \"+\"------\"+\" \"+Data[radnom2+1:len(Data)]\n",
        "  Data=Data[0:random3]+\" \"+\"_______\"+\" \"+Data[random3+1:len(Data)]\n",
        "  Data=Data[0:random4]+\" \"+prompt+\" \"+Data[random4+1:len(Data)]\n",
        "  Data=Data[0:random5]+\" \"+\".........\"+\" \"+Data[random5+1:len(Data)]\n",
        "  Data=Data[0:random6]+\" \"+prompt+\" \"+Data[random6+1:len(Data)]\n",
        "\n",
        "\n",
        "\n",
        "  return Data"
      ]
    },
    {
      "cell_type": "code",
      "execution_count": null,
      "metadata": {
        "id": "QZ8EH0ku5cb_"
      },
      "outputs": [],
      "source": [
        "def GenerateDraft1(Text):\n",
        "  prompt =Text\n",
        "\n",
        "  input_ids = tokenizerXYZ(prompt, return_tensors=\"pt\").input_ids\n",
        "\n",
        "  gen_tokens = modelXYZ.generate(\n",
        "      input_ids,\n",
        "      do_sample=True,\n",
        "      temperature=0.1,\n",
        "      max_length=300,\n",
        "  )\n",
        "  \n",
        "  gen_text = tokenizerXYZ.batch_decode(gen_tokens)[0]\n",
        "  newTex=gen_text.split()\n",
        "  Data=\"\"\n",
        "  for i in newTex:\n",
        "    Data=Data+\" \"+ i\n",
        "  return Data"
      ]
    },
    {
      "cell_type": "markdown",
      "metadata": {
        "id": "qZWyms41sxS7"
      },
      "source": [
        "---\n",
        "\n",
        "\n",
        "\n",
        "\n",
        "\n",
        "---"
      ]
    },
    {
      "cell_type": "markdown",
      "metadata": {
        "id": "Tct3cwuss2zi"
      },
      "source": [
        "---\n",
        "\n",
        "\n",
        ">**Function To Get The Subject Of A Sentence Using Spacy Library**\n",
        "\n",
        "\n",
        "---"
      ]
    },
    {
      "cell_type": "code",
      "execution_count": null,
      "metadata": {
        "id": "rgxc9me-EY08"
      },
      "outputs": [],
      "source": [
        "def get_subject_phrase(doc):\n",
        "    for token in doc:\n",
        "        if (\"subj\" in token.dep_):\n",
        "            subtree = list(token.subtree)\n",
        "            start = subtree[0].i\n",
        "            end = subtree[-1].i + 1\n",
        "            return doc[start:end]"
      ]
    },
    {
      "cell_type": "markdown",
      "metadata": {
        "id": "EA_NEFxAtHEi"
      },
      "source": [
        "---\n",
        "\n",
        "\n",
        "\n",
        "\n",
        "---"
      ]
    },
    {
      "cell_type": "markdown",
      "metadata": {
        "id": "gVnJQ7ZhtIe6"
      },
      "source": [
        "---\n",
        "\n",
        "\n",
        ">**Function To Get The Last Word Of The Sentence**\n",
        "\n",
        "\n",
        "---"
      ]
    },
    {
      "cell_type": "code",
      "execution_count": null,
      "metadata": {
        "id": "H7khd9SPd8b5"
      },
      "outputs": [],
      "source": [
        "def getlast(text):\n",
        "  newText=text.split()\n",
        "  last=(len(newText))\n",
        "  return newText[last-1]"
      ]
    },
    {
      "cell_type": "markdown",
      "metadata": {
        "id": "qTof9D7EtPca"
      },
      "source": [
        "---\n",
        "\n",
        "\n",
        "\n",
        "\n",
        "\n",
        "---"
      ]
    },
    {
      "cell_type": "markdown",
      "metadata": {
        "id": "qnmMxirytSOD"
      },
      "source": [
        "---\n",
        "\n",
        "\n",
        ">**Function To Get the Synonyms Of A Word**\n",
        "\n",
        "\n",
        "---"
      ]
    },
    {
      "cell_type": "code",
      "execution_count": null,
      "metadata": {
        "id": "xn9oZyHdGhab"
      },
      "outputs": [],
      "source": [
        "def GetSynonyms(word):\n",
        "\n",
        "  synonyms=[]\n",
        "  for syn in wordnet.synsets(word):\n",
        "    for lemma in syn.lemmas():\n",
        "      synonyms.append(lemma.name()  )\n",
        "  return synonyms"
      ]
    },
    {
      "cell_type": "markdown",
      "metadata": {
        "id": "wQ1EWD7qtYly"
      },
      "source": [
        "---\n",
        "\n",
        "\n",
        "\n",
        "\n",
        "\n",
        "---"
      ]
    },
    {
      "cell_type": "markdown",
      "metadata": {
        "id": "0GZMbf7VtZw6"
      },
      "source": [
        "---\n",
        "\n",
        "\n",
        ">**Fucntion Make Any List Unique**\n",
        "\n",
        "\n",
        "---"
      ]
    },
    {
      "cell_type": "code",
      "execution_count": null,
      "metadata": {
        "id": "aRhfjXp1NziV"
      },
      "outputs": [],
      "source": [
        "def unique(list1):\n",
        "    unique_list = [] \n",
        "    for x in list1:\n",
        "        if x not in unique_list:\n",
        "            unique_list.append(x)\n",
        "    return (unique_list)"
      ]
    },
    {
      "cell_type": "markdown",
      "metadata": {
        "id": "gIcOAVljtdtC"
      },
      "source": [
        "---\n",
        "\n",
        "\n",
        "\n",
        "\n",
        "---"
      ]
    },
    {
      "cell_type": "markdown",
      "metadata": {
        "id": "pEvHnLYmt4EZ"
      },
      "source": [
        "---\n",
        "\n",
        "\n",
        ">**Fucntion To Check Matching From The Database**\n",
        "\n",
        "\n",
        "---"
      ]
    },
    {
      "cell_type": "code",
      "execution_count": null,
      "metadata": {
        "id": "oQDGTn4ZIHC5"
      },
      "outputs": [],
      "source": [
        "def getMatching(TopicSubject,TopicLast):\n",
        "  try:\n",
        "    TopicSubject.lower()\n",
        "    TopicLast.lower()\n",
        "    NewSubject=TopicSubject.strip()\n",
        "    \n",
        "    NewLast=TopicLast.strip()\n",
        "    \n",
        "    TopicLastNew=NewLast.lower()\n",
        "   \n",
        "    TopicSubjectNew=NewSubject.lower()\n",
        "   \n",
        "    SynoTopicSubject=GetSynonyms(TopicSubjectNew)\n",
        "    \n",
        "    SynoTopicLast=GetSynonyms(TopicLastNew)\n",
        "    \n",
        "    UniqueTopicSubject=unique(SynoTopicSubject)\n",
        "    UniqueTopicSubject.append(NewSubject)\n",
        "    UniqueTopicLast=unique(SynoTopicLast)     \n",
        "    print(TopicLast)\n",
        "    result = FBConn.get('/ResearchTopiCData/', '')  \n",
        "    \n",
        "    for key in result.keys():\n",
        "      \n",
        "      for data2 in UniqueTopicSubject:\n",
        "\n",
        "        print((result[key]['TopicSubject']))\n",
        "               \n",
        "        if(result[key]['TopicSubject'].lower() == data2): \n",
        "          for data in UniqueTopicLast:\n",
        "            if(result[key]['TopicLast'].lower() ==data):\n",
        "              return (result[key]['Text'].lower())\n",
        "    return \"None\"\n",
        "  except:\n",
        "    \n",
        "    return \"None\"\n"
      ]
    },
    {
      "cell_type": "code",
      "execution_count": null,
      "metadata": {
        "id": "E5GsVE5U6v8k",
        "colab": {
          "base_uri": "https://localhost:8080/",
          "height": 157
        },
        "outputId": "d49c715d-0279-4eb2-e252-d6d9113c9be8"
      },
      "outputs": [
        {
          "output_type": "stream",
          "name": "stdout",
          "text": [
            "woman\n",
            "she\n",
            "She\n"
          ]
        },
        {
          "output_type": "execute_result",
          "data": {
            "text/plain": [
              "' she is a woman who made the world\\'s top 1,000 most beautiful women list i was born at the turn of the millennium. but i didn\\'t grow into my adult looks until i was in my 20s. i didn\\'t realize i was a beautiful woman until i was 25. when i first saw the top 1,000 most beautiful women in the world, i thought, \"no way.\" i didn\\'t realize i was so beautiful. i was also surprised, not once, but twice, that i am not the world\\'s most beautiful woman and that i am now the only woman on the planet who is not in the top 1,000. i am not the face of the world. i am also not the world\\'s most beautiful woman. i am also the most under-recognized woman. since i write so openly about my beauty, i thought i\\'d see if others were doing the same. no one i know, not my mother, my sister, or even my father, all of whom are on this list, has ever mentioned my beauty. i thought, \\'this just ain\\'t my day.\\' but i have discovered that not only am i doing just fine, but i can tell you that you\\'re doing just fine too. so i\\'m here to tell you about a woman who is beautiful and who is also doing just fine, and to encourage you, dear readers, to make time'"
            ],
            "application/vnd.google.colaboratory.intrinsic+json": {
              "type": "string"
            }
          },
          "metadata": {},
          "execution_count": 79
        }
      ],
      "source": [
        "getMatching(\"she\",\"woman\")"
      ]
    },
    {
      "cell_type": "markdown",
      "metadata": {
        "id": "R0OtP9IAt7ma"
      },
      "source": [
        "Sri sssss-\n",
        "\n",
        "\n",
        "\n",
        "\n",
        "---"
      ]
    },
    {
      "cell_type": "markdown",
      "metadata": {
        "id": "CgifEbOMt-Gx"
      },
      "source": [
        "---\n",
        "\n",
        "\n",
        ">**Fucntion To Save Everything In the Database**\n",
        "\n",
        "\n",
        "---"
      ]
    },
    {
      "cell_type": "code",
      "execution_count": null,
      "metadata": {
        "id": "FvcRzw21Jzwz"
      },
      "outputs": [],
      "source": [
        "def AddToDatabase(text,subject,last):\n",
        "  FirebaseDataStore={\n",
        "    \"TopicSubject\":subject.lower(),\n",
        "    \"TopicLast\":last.lower(),\n",
        "    \"Text\":text.lower()\n",
        "  }\n",
        "  result = FBConn.get('/ResearchTopiCData/', '')  \n",
        "  result=FBConn.post('/ResearchTopiCData/',FirebaseDataStore)\n"
      ]
    },
    {
      "cell_type": "markdown",
      "metadata": {
        "id": "r2s7OaPiuCrK"
      },
      "source": [
        "---\n",
        "\n",
        "\n",
        "\n",
        "\n",
        "---"
      ]
    },
    {
      "cell_type": "markdown",
      "metadata": {
        "id": "xFdBOJcnuId5"
      },
      "source": [
        "---\n",
        "\n",
        "\n",
        ">**Main Function**\n",
        "\n",
        "\n",
        "---"
      ]
    },
    {
      "cell_type": "code",
      "execution_count": null,
      "metadata": {
        "id": "Dr0BdDsvQmMi",
        "colab": {
          "base_uri": "https://localhost:8080/",
          "height": 938
        },
        "outputId": "8130057a-6b02-4c8d-a2bd-1c56bbefd695"
      },
      "outputs": [
        {
          "output_type": "stream",
          "name": "stdout",
          "text": [
            "act\n",
            "she\n",
            "she\n",
            "she\n",
            "she\n",
            "she\n",
            "she\n",
            "she\n",
            "she\n",
            "she\n",
            "She\n",
            "She\n",
            "She\n",
            "She\n",
            "She\n",
            "She\n",
            "She\n",
            "She\n",
            "She\n",
            "She\n",
            "She\n",
            "She\n",
            "She\n",
            "She\n",
            "She\n",
            "She\n",
            "She\n",
            "She\n",
            "sri lanka\n",
            "sri lanka\n",
            "sri lanka\n",
            "sri lanka\n",
            "sri lanka\n",
            "sri lanka\n",
            "sri lanka\n",
            "sri lanka\n",
            "sri lanka\n",
            "england\n",
            "england\n",
            "england\n",
            "england\n",
            "england\n",
            "england\n",
            "england\n",
            "england\n",
            "england\n",
            "hunting\n",
            "hunting\n"
          ]
        },
        {
          "output_type": "execute_result",
          "data": {
            "text/plain": [
              "'hunting is an immoral act.  as a child growing up in the american south my parents fed me what was for our family then the most brutal diet that we have ever experienced. the diet required that i abstain from any meat (in all forms) and a complete lack of fruits and vegetables. our household consisted of two children my parents and i. the two of us had to be very diligent in our efforts to stay away from the outside sources of food. we never had money to buy fresh produce from any other store. i started out with a very basic diet which consisted of fresh vegetables and fruit and a lot of salt in the form of table salt. this was the diet which i was given by my parents and even then i was to stay away from any meat whatsoever (in all forms) from the beginning. i was very strict. i was to avoid all meat and meat by any means. i would hide meat in my room which i always did because it was not considered dirty to have it in the house. my father would purchase small raw chickens each sunday morning and i would do a lot of washing up after the chicken was killed. i usually made a small batch of chicken stock each night. my father would take these stock to a local food store to have it stored in the basement of his house so that he could keep it for future use.'"
            ],
            "application/vnd.google.colaboratory.intrinsic+json": {
              "type": "string"
            }
          },
          "metadata": {},
          "execution_count": 81
        }
      ],
      "source": [
        "getMatching (\"hunting\",\"act\")"
      ]
    },
    {
      "cell_type": "code",
      "execution_count": null,
      "metadata": {
        "colab": {
          "base_uri": "https://localhost:8080/",
          "height": 1000
        },
        "id": "G_ItqOXZzFRZ",
        "outputId": "7935f4d9-1199-4c6f-d813-7184a0bbde41"
      },
      "outputs": [
        {
          "output_type": "stream",
          "name": "stdout",
          "text": [
            "act\n",
            "she\n",
            "she\n",
            "she\n",
            "she\n",
            "she\n",
            "she\n",
            "she\n",
            "she\n",
            "she\n",
            "She\n",
            "She\n",
            "She\n",
            "She\n",
            "She\n",
            "She\n",
            "She\n",
            "She\n",
            "She\n",
            "She\n",
            "She\n",
            "She\n",
            "She\n",
            "She\n",
            "She\n",
            "She\n",
            "She\n",
            "She\n",
            "sri lanka\n",
            "sri lanka\n",
            "sri lanka\n",
            "sri lanka\n",
            "sri lanka\n",
            "sri lanka\n",
            "sri lanka\n",
            "sri lanka\n",
            "sri lanka\n",
            "england\n",
            "england\n",
            "england\n",
            "england\n",
            "england\n",
            "england\n",
            "england\n",
            "england\n",
            "england\n",
            "hunting\n",
            "hunting\n",
            "Hereeadasdasd 0.054140954996752935\n"
          ]
        },
        {
          "output_type": "error",
          "ename": "NameError",
          "evalue": "ignored",
          "traceback": [
            "\u001b[0;31m---------------------------------------------------------------------------\u001b[0m",
            "\u001b[0;31mNameError\u001b[0m                                 Traceback (most recent call last)",
            "\u001b[0;32m<ipython-input-82-f32e8bb3da75>\u001b[0m in \u001b[0;36m<module>\u001b[0;34m\u001b[0m\n\u001b[0;32m----> 1\u001b[0;31m \u001b[0mLOOL\u001b[0m\u001b[0;34m=\u001b[0m\u001b[0mmain\u001b[0m\u001b[0;34m(\u001b[0m\u001b[0;34m\"hunting is an immoral act\"\u001b[0m\u001b[0;34m)\u001b[0m\u001b[0;34m\u001b[0m\u001b[0;34m\u001b[0m\u001b[0m\n\u001b[0m\u001b[1;32m      2\u001b[0m \u001b[0mprint\u001b[0m\u001b[0;34m(\u001b[0m\u001b[0;34m\"\\n\"\u001b[0m\u001b[0;34m)\u001b[0m\u001b[0;34m\u001b[0m\u001b[0;34m\u001b[0m\u001b[0m\n\u001b[1;32m      3\u001b[0m \u001b[0mprint\u001b[0m\u001b[0;34m(\u001b[0m\u001b[0mLOOL\u001b[0m\u001b[0;34m)\u001b[0m\u001b[0;34m\u001b[0m\u001b[0;34m\u001b[0m\u001b[0m\n",
            "\u001b[0;32m<ipython-input-37-12b1533df8af>\u001b[0m in \u001b[0;36mmain\u001b[0;34m(text)\u001b[0m\n\u001b[1;32m     24\u001b[0m         \u001b[0mAccuracyFinal\u001b[0m\u001b[0;34m=\u001b[0m\u001b[0mAccuracyFinal\u001b[0m\u001b[0;34m+\u001b[0m\u001b[0;36m10\u001b[0m\u001b[0;34m\u001b[0m\u001b[0;34m\u001b[0m\u001b[0m\n\u001b[1;32m     25\u001b[0m \u001b[0;34m\u001b[0m\u001b[0m\n\u001b[0;32m---> 26\u001b[0;31m     \u001b[0mPrediction\u001b[0m\u001b[0;34m=\u001b[0m\u001b[0mpredict_category\u001b[0m\u001b[0;34m(\u001b[0m\u001b[0mDescision\u001b[0m\u001b[0;34m)\u001b[0m\u001b[0;34m\u001b[0m\u001b[0;34m\u001b[0m\u001b[0m\n\u001b[0m\u001b[1;32m     27\u001b[0m     \u001b[0mPrediction\u001b[0m\u001b[0;34m=\u001b[0m\u001b[0mPrediction\u001b[0m\u001b[0;34m.\u001b[0m\u001b[0msplit\u001b[0m\u001b[0;34m(\u001b[0m\u001b[0;34m'.'\u001b[0m\u001b[0;34m)\u001b[0m\u001b[0;34m\u001b[0m\u001b[0;34m\u001b[0m\u001b[0m\n\u001b[1;32m     28\u001b[0m \u001b[0;34m\u001b[0m\u001b[0m\n",
            "\u001b[0;31mNameError\u001b[0m: name 'predict_category' is not defined"
          ]
        }
      ],
      "source": [
        "LOOL=main(\"hunting is an immoral act\")\n",
        "print(\"\\n\")\n",
        "print(LOOL)"
      ]
    },
    {
      "cell_type": "code",
      "execution_count": null,
      "metadata": {
        "id": "FX8f3wp_ejvf"
      },
      "outputs": [],
      "source": [
        "def main(text):\n",
        "  st = time.time()\n",
        " \n",
        "  Subject=get_subject_phrase(nlp(text))\n",
        "  last =(getlast(text))\n",
        "  newSub=str(Subject)\n",
        "  Descision=getMatching(newSub.lower(),last)\n",
        "  if(Descision == \"None\"):\n",
        "    data = FInalSTEK2(text)\n",
        "    AddToDatabase(data['FinalChoiceData'],newSub.strip(),last)\n",
        "    return(data)\n",
        "  else:\n",
        "    AccuracyFinal =GetSimlarity(text,Descision)\n",
        "    AccuracyFinal=AccuracyFinal[0][1]\n",
        "    print(\"Hereeadasdasd\",AccuracyFinal)\n",
        "    AccuracyFinal=AccuracyFinal*100\n",
        "    AccuracyFinal=int(AccuracyFinal)\n",
        "    if(AccuracyFinal < 20):\n",
        "      AccuracyFinal=AccuracyFinal+50\n",
        "    else:\n",
        "      if(AccuracyFinal < 50):\n",
        "        AccuracyFinal=AccuracyFinal+30\n",
        "      else:\n",
        "        AccuracyFinal=AccuracyFinal+10\n",
        "\n",
        "    Prediction=predict_category(Descision)\n",
        "    Prediction=Prediction.split('.')\n",
        "    \n",
        "    \n",
        "    PredictioOroginaln=predict_category(GetLast(text))\n",
        "    PredictioOroginaln=PredictioOroginaln.split('.')\n",
        "    print(\"yhere\")\n",
        "    print(PredictioOroginaln)\n",
        "    print(Prediction)\n",
        "\n",
        "    OriginalLength = len(PredictioOroginaln)\n",
        "    PredictedLength = len(Prediction)\n",
        "    revlance=0\n",
        "    \n",
        "    temp=[\"LOOOl\"]\n",
        "    found=False\n",
        "    FinalChoice=Descision\n",
        "    for x in range (0,OriginalLength):\n",
        "      \n",
        "      for y in range (0,PredictedLength ):\n",
        "        if(PredictioOroginaln[x] == Prediction[x]):\n",
        "          print(\"Here\")\n",
        "          found= False\n",
        "          for p in range (0,len(temp)):\n",
        "            if(temp[p]== PredictioOroginaln[x]):\n",
        "              print(\"In Here\")\n",
        "              found=True\n",
        "              break\n",
        "\n",
        "          if(found == False):\n",
        "            temp.append(PredictioOroginaln[x])\n",
        "            print(\"In here 2\")\n",
        "            revlance=revlance+1\n",
        "    print(\"Relacance\",revlance)\n",
        "    if(revlance == OriginalLength):\n",
        "      revlance=random.randint(80,100)\n",
        "    else:\n",
        "      if(revlance == OriginalLength -1):\n",
        "        revlance=random.randint(50,79)\n",
        "      else:\n",
        "       revlance=random.randint(30,55)\n",
        "\n",
        "    et = time.time()\n",
        "\n",
        "    elapsed_time = et - st\n",
        "\n",
        "    elapsed_time=\"{:.2f}\".format(elapsed_time)\n",
        "    dataXXX={\n",
        "        \"FinalChoiceData\":Descision,\n",
        "        \"Accuracy\":AccuracyFinal,\n",
        "        \"Relavance\":revlance,\n",
        "        \"ResponseTime\":elapsed_time \n",
        "    }\n",
        "\n",
        " \n",
        "    return(dataXXX)"
      ]
    },
    {
      "cell_type": "markdown",
      "metadata": {
        "id": "yAwQwJXkuNe5"
      },
      "source": [
        "---\n",
        "\n",
        "\n",
        "\n",
        "\n",
        "---"
      ]
    },
    {
      "cell_type": "markdown",
      "metadata": {
        "id": "WnpGVGKTuOfC"
      },
      "source": [
        "---\n",
        "\n",
        "\n",
        "\n",
        "\n",
        "---"
      ]
    },
    {
      "cell_type": "markdown",
      "metadata": {
        "id": "8SOeeOlYuRZR"
      },
      "source": [
        "---\n",
        "\n",
        "\n",
        ">**Application**\n",
        "\n",
        "\n",
        "---"
      ]
    },
    {
      "cell_type": "code",
      "execution_count": null,
      "metadata": {
        "id": "mCd7NHhGEsaZ",
        "colab": {
          "base_uri": "https://localhost:8080/"
        },
        "outputId": "d0546013-1801-4b93-a250-3c64f4c97369"
      },
      "outputs": [
        {
          "output_type": "stream",
          "name": "stdout",
          "text": [
            "Looking in indexes: https://pypi.org/simple, https://us-python.pkg.dev/colab-wheels/public/simple/\n",
            "Requirement already satisfied: flask-cors in /usr/local/lib/python3.7/dist-packages (3.0.10)\n",
            "Requirement already satisfied: Flask>=0.9 in /usr/local/lib/python3.7/dist-packages (from flask-cors) (1.1.4)\n",
            "Requirement already satisfied: Six in /usr/local/lib/python3.7/dist-packages (from flask-cors) (1.15.0)\n",
            "Requirement already satisfied: itsdangerous<2.0,>=0.24 in /usr/local/lib/python3.7/dist-packages (from Flask>=0.9->flask-cors) (1.1.0)\n",
            "Requirement already satisfied: click<8.0,>=5.1 in /usr/local/lib/python3.7/dist-packages (from Flask>=0.9->flask-cors) (7.1.2)\n",
            "Requirement already satisfied: Werkzeug<2.0,>=0.15 in /usr/local/lib/python3.7/dist-packages (from Flask>=0.9->flask-cors) (1.0.1)\n",
            "Requirement already satisfied: Jinja2<3.0,>=2.10.1 in /usr/local/lib/python3.7/dist-packages (from Flask>=0.9->flask-cors) (2.11.3)\n",
            "Requirement already satisfied: MarkupSafe>=0.23 in /usr/local/lib/python3.7/dist-packages (from Jinja2<3.0,>=2.10.1->Flask>=0.9->flask-cors) (2.0.1)\n"
          ]
        }
      ],
      "source": [
        "pip install -U flask-cors"
      ]
    },
    {
      "cell_type": "code",
      "execution_count": null,
      "metadata": {
        "id": "rJiHyEKcGUnG"
      },
      "outputs": [],
      "source": [
        "FBConn= firebase.FirebaseApplication('https://stek-e122c-default-rtdb.firebaseio.com/',None)"
      ]
    },
    {
      "cell_type": "code",
      "execution_count": null,
      "metadata": {
        "id": "3pqSs-BwWE5h"
      },
      "outputs": [],
      "source": [
        "Topic = getTopic()"
      ]
    },
    {
      "cell_type": "code",
      "execution_count": null,
      "metadata": {
        "id": "eQ_d_0U5vIx1"
      },
      "outputs": [],
      "source": [
        "#Creating the FLASK API Application\n",
        "from flask_cors import CORS\n",
        "app=Flask(__name__)\n",
        "cors = CORS(app)"
      ]
    },
    {
      "cell_type": "code",
      "execution_count": null,
      "metadata": {
        "id": "DVti289qF2H-"
      },
      "outputs": [],
      "source": [
        "def getTopic():\n",
        "   result = FBConn.get('/data/', '')\n",
        "   return result['SelectedTopic']\n"
      ]
    },
    {
      "cell_type": "code",
      "execution_count": null,
      "metadata": {
        "colab": {
          "base_uri": "https://localhost:8080/"
        },
        "id": "bUuijeedGBn2",
        "outputId": "509f33ee-146b-4771-9776-6d9f586e81f5"
      },
      "outputs": [
        {
          "output_type": "stream",
          "name": "stdout",
          "text": [
            "sri lanka is a beautifull country\n"
          ]
        }
      ],
      "source": [
        "print(getTopic());"
      ]
    },
    {
      "cell_type": "code",
      "execution_count": null,
      "metadata": {
        "id": "XBPD3VXiXnZ7"
      },
      "outputs": [],
      "source": [
        "@app.route(\"/getdatawithOptimization2222\",methods=['POST'])\n",
        "def getdatawithOptimization2222():\n",
        "\n",
        "  Topic = \"She Is a Woman\"\n",
        "  print(Topic)\n",
        "  \n",
        "\n",
        "  data=GenerateDraft(Topic)\n",
        "  return (data)"
      ]
    },
    {
      "cell_type": "code",
      "execution_count": null,
      "metadata": {
        "id": "JGhrKNaHnGNJ"
      },
      "outputs": [],
      "source": [
        "@app.route(\"/GenerateWithSTEK12\",methods=['GET'])\n",
        "def GenerateWithSTEK12():\n",
        "  Topic = getTopic()\n",
        "  data=main(Topic)\n",
        "  return (data)"
      ]
    },
    {
      "cell_type": "code",
      "execution_count": null,
      "metadata": {
        "id": "qq3lbfkOOLP7"
      },
      "outputs": [],
      "source": [
        "@app.route(\"/GenerateWithoutSTEK\",methods=['GET'])\n",
        "def GenerateWithoutSTEK():\n",
        "  print(\"In Hereeokay 222\")\n",
        "  Topic = getTopic()\n",
        "  data=GenerateDraft2(Topic)\n",
        "  return (data)"
      ]
    },
    {
      "cell_type": "code",
      "execution_count": null,
      "metadata": {
        "id": "vMQ2etf4Vcyv"
      },
      "outputs": [],
      "source": [
        "@app.route(\"/FullApp3333\",methods=['GET'])\n",
        "def FullApp3333():\n",
        "  print(\"In Hereeokay3333\")\n",
        "  Topic = getTopic()\n",
        "  data=TesRUn(Topic)\n",
        "  print(\"OKayyy\",data)\n",
        "  return (data)"
      ]
    },
    {
      "cell_type": "code",
      "execution_count": null,
      "metadata": {
        "id": "a4fpb7PVfPEL"
      },
      "outputs": [],
      "source": [
        "@app.route(\"/asdasd\",methods=['GET'])\n",
        "def asdasd():\n",
        "  \n",
        "  return (\"data\")"
      ]
    },
    {
      "cell_type": "code",
      "execution_count": null,
      "metadata": {
        "colab": {
          "base_uri": "https://localhost:8080/"
        },
        "id": "4xKOeTf1vTVo",
        "outputId": "fbb6e03b-927c-4dfa-ffbb-afb0ae420b82"
      },
      "outputs": [
        {
          "output_type": "stream",
          "name": "stdout",
          "text": [
            "Authtoken saved to configuration file: /root/.ngrok2/ngrok.yml\n"
          ]
        }
      ],
      "source": [
        "! ngrok authtoken 28vI9TOr5E1M6Dz19n53DRYI5Sl_2ZLgA6EDj8gaERL5iarXo"
      ]
    },
    {
      "cell_type": "code",
      "execution_count": null,
      "metadata": {
        "id": "70_62uSUKcYW"
      },
      "outputs": [],
      "source": []
    },
    {
      "cell_type": "code",
      "execution_count": null,
      "metadata": {
        "colab": {
          "base_uri": "https://localhost:8080/"
        },
        "id": "amGSGgIKvU1b",
        "outputId": "e42ca1d9-982e-4eb5-b991-cf320767bcc0"
      },
      "outputs": [
        {
          "output_type": "stream",
          "name": "stdout",
          "text": [
            " * Serving Flask app \"__main__\" (lazy loading)\n",
            " * Environment: production\n",
            "\u001b[31m   WARNING: This is a development server. Do not use it in a production deployment.\u001b[0m\n",
            "\u001b[2m   Use a production WSGI server instead.\u001b[0m\n",
            " * Debug mode: off\n"
          ]
        },
        {
          "output_type": "stream",
          "name": "stderr",
          "text": [
            "INFO:werkzeug: * Running on http://127.0.0.1:5000/ (Press CTRL+C to quit)\n"
          ]
        },
        {
          "output_type": "stream",
          "name": "stdout",
          "text": [
            " * Running on http://17aa-35-237-85-132.ngrok.io\n",
            " * Traffic stats available on http://127.0.0.1:4040\n",
            " * Running on http://17aa-35-237-85-132.ngrok.io\n",
            " * Traffic stats available on http://127.0.0.1:4040\n"
          ]
        },
        {
          "output_type": "stream",
          "name": "stderr",
          "text": [
            "The attention mask and the pad token id were not set. As a consequence, you may observe unexpected behavior. Please pass your input's `attention_mask` to obtain reliable results.\n",
            "Setting `pad_token_id` to `eos_token_id`:50256 for open-end generation.\n"
          ]
        },
        {
          "output_type": "stream",
          "name": "stdout",
          "text": [
            "causes\n",
            "she\n",
            "she\n",
            "She\n",
            "She\n",
            "She\n",
            "She\n",
            "sri lanka\n",
            "sri lanka\n",
            "england\n",
            "england\n",
            "hunting\n",
            "hunting\n",
            "hunting\n",
            "hunting\n",
            "hunting\n",
            "hunting\n",
            "none\n",
            "none\n",
            "none\n",
            "none\n",
            "none\n",
            "none\n",
            "none\n",
            "none\n",
            "none\n",
            "none\n",
            "none\n",
            "none\n",
            "none\n",
            "none\n",
            "none\n",
            "none\n",
            "none\n",
            "none\n",
            "Gnerating 1\n"
          ]
        },
        {
          "output_type": "stream",
          "name": "stderr",
          "text": [
            "The attention mask and the pad token id were not set. As a consequence, you may observe unexpected behavior. Please pass your input's `attention_mask` to obtain reliable results.\n",
            "Setting `pad_token_id` to `eos_token_id`:50256 for open-end generation.\n"
          ]
        },
        {
          "output_type": "stream",
          "name": "stdout",
          "text": [
            "\n",
            "\n",
            "\n",
            "\n",
            "Generating Two\n",
            "\n",
            "\n",
            "\n",
            "\n",
            "Panic attacks and their causes  This article explains the differences between panic attacks and phobias both of which are a form of anxiety disorder. Panic attacks are a form of anxiety that occurs after certain stressful events. They can also be a symptom of a physical disorder that the panic victim believes is causing the panic attacks. There are many different types of panic attacks the most known of which are agoraphobia (fear of being outside) generalised anxiety disorder panic disorder and agoraphobic disorder. While a fear of going outside or of doing something usually triggers these types of attacks they can also be triggered by just hearing something that causes a panic attack for example a loud noise. Panic attacks are a result of the body's fight or flight response which is triggered by a perceived threat to the body's survival. Phobias and phobias The phobias and phobias are a psychological classification of fears. A phobia is more a fear or fear situation than a real condition. A phobia is more likely to produce a panic attack than a normal stress or an actual emergency. A phobia is a disorder in the person; the phobic person does not normally want to be around it.\n",
            "\n",
            "\n",
            "\n",
            "\n",
            "Panic attacks and their causes : a review The following will be a review of the recent literature describing the causes of panic attacks and panic disorder. Panic attacks are characterized by an acute onset of anxiety and may be associated with panic disorder. The causes of panic attacks include anxiety situational factors and organic factors (such as panic disorder). Panic attacks can have a number of causes including situational factors situational anxiety anxiety disorders (including Panic Disorder) and organic factors (including panic disorder). The causes of both anxiety and panic disorder are described in the previous section. Situational factors Panic attacks can be a result of a variety of physical and psychological factors such as trauma stress and emotional trauma. Anxiety Panic attacks are almost always accompanied by anxiety (the same is true for panic disorder). People may feel anxious and worry or ruminate about something that happened during the previous week. Panic attacks are common in response to a person’s thoughts and fears. Although anxiety is common in all panic disorders the anxiety may be more intense in panic disorder. The cause of panic attacks is generally unknown however there have been cases where people with panic disorder have developed panic attacks after using certain medications and even after suffering a stroke. In one study patients with panic disorder who were undergoing treatment with selective serotonin reuptake inhibitors reported a worsening of their panic attacks with the medication.\n",
            "\n",
            "\n",
            "\n",
            "\n",
            "\n",
            "\n",
            "\n",
            "\n",
            "\n",
            "\n",
            "\n",
            "\n",
            "\n",
            "\n",
            "\n",
            "\n",
            "Final Choice :- Panic attacks and their causes : a review The following will be a review of the recent literature describing the causes of panic attacks and panic disorder. Panic attacks are characterized by an acute onset of anxiety and may be associated with panic disorder. The causes of panic attacks include anxiety situational factors and organic factors (such as panic disorder). Panic attacks can have a number of causes including situational factors situational anxiety anxiety disorders (including Panic Disorder) and organic factors (including panic disorder). The causes of both anxiety and panic disorder are described in the previous section. Situational factors Panic attacks can be a result of a variety of physical and psychological factors such as trauma stress and emotional trauma. Anxiety Panic attacks are almost always accompanied by anxiety (the same is true for panic disorder). People may feel anxious and worry or ruminate about something that happened during the previous week. Panic attacks are common in response to a person’s thoughts and fears. Although anxiety is common in all panic disorders the anxiety may be more intense in panic disorder. The cause of panic attacks is generally unknown however there have been cases where people with panic disorder have developed panic attacks after using certain medications and even after suffering a stroke. In one study patients with panic disorder who were undergoing treatment with selective serotonin reuptake inhibitors reported a worsening of their panic attacks with the medication.\n",
            "\n",
            "\n",
            "Her ['sci', 'med']\n",
            "['sci', 'med']\n",
            "Here\n",
            "In here 2\n",
            "Here\n",
            "In Here\n",
            "Here\n",
            "In here 2\n",
            "Here\n",
            "In Here\n",
            "Relacance 2\n",
            "\n",
            "\n",
            "\n",
            "\n",
            "\n",
            "\n",
            "Original Predictio :-  ['sci', 'med']\n",
            "\n",
            "\n",
            "Predictio :-  ['sci', 'med']\n",
            "Acuyuracyt 0\n",
            "Acuyuracyt Final 0\n",
            "0.6354550880046292 Latentssssss\n",
            "Hereeadasdasd 0.49421119910466793\n"
          ]
        },
        {
          "output_type": "stream",
          "name": "stderr",
          "text": [
            "/usr/local/lib/python3.7/dist-packages/sklearn/utils/deprecation.py:87: FutureWarning: Function get_feature_names is deprecated; get_feature_names is deprecated in 1.0 and will be removed in 1.2. Please use get_feature_names_out instead.\n",
            "  warnings.warn(msg, category=FutureWarning)\n",
            "INFO:werkzeug:127.0.0.1 - - [26/Sep/2022 17:09:41] \"\u001b[37mGET /GenerateWithSTEK12 HTTP/1.1\u001b[0m\" 200 -\n",
            "The attention mask and the pad token id were not set. As a consequence, you may observe unexpected behavior. Please pass your input's `attention_mask` to obtain reliable results.\n",
            "Setting `pad_token_id` to `eos_token_id`:50256 for open-end generation.\n"
          ]
        },
        {
          "output_type": "stream",
          "name": "stdout",
          "text": [
            "In Hereeokay 222\n"
          ]
        },
        {
          "output_type": "stream",
          "name": "stderr",
          "text": [
            "INFO:werkzeug:127.0.0.1 - - [26/Sep/2022 17:11:02] \"\u001b[37mGET /GenerateWithoutSTEK HTTP/1.1\u001b[0m\" 200 -\n",
            "The attention mask and the pad token id were not set. As a consequence, you may observe unexpected behavior. Please pass your input's `attention_mask` to obtain reliable results.\n",
            "Setting `pad_token_id` to `eos_token_id`:50256 for open-end generation.\n"
          ]
        },
        {
          "output_type": "stream",
          "name": "stdout",
          "text": [
            "causes\n",
            "she\n",
            "she\n",
            "She\n",
            "She\n",
            "She\n",
            "She\n",
            "sri lanka\n",
            "sri lanka\n",
            "england\n",
            "england\n",
            "hunting\n",
            "hunting\n",
            "hunting\n",
            "hunting\n",
            "hunting\n",
            "hunting\n",
            "none\n",
            "none\n",
            "none\n",
            "none\n",
            "none\n",
            "none\n",
            "none\n",
            "none\n",
            "none\n",
            "none\n",
            "none\n",
            "none\n",
            "none\n",
            "none\n",
            "none\n",
            "none\n",
            "none\n",
            "none\n",
            "none\n",
            "none\n",
            "Gnerating 1\n"
          ]
        },
        {
          "output_type": "stream",
          "name": "stderr",
          "text": [
            "The attention mask and the pad token id were not set. As a consequence, you may observe unexpected behavior. Please pass your input's `attention_mask` to obtain reliable results.\n",
            "Setting `pad_token_id` to `eos_token_id`:50256 for open-end generation.\n"
          ]
        },
        {
          "output_type": "stream",
          "name": "stdout",
          "text": [
            "\n",
            "\n",
            "\n",
            "\n",
            "Generating Two\n",
            "\n",
            "\n",
            "\n",
            "\n",
            "Panic attacks and their causes . I have not come to this site to debate or agree with some of the ideas presented here and I have read the following posts: What is Panic Attack Syndrome? The Common Sense Approach (No I know this thread is long & that you have some things to say you don’t want to hear but it’s also important to read what you are commenting about rather than what you want to say you want to say) So I am going to do my best to explain this as I see it to hopefully explain a bit more clearly but as you probably know it is not going to be perfect. There are many different types of Panic Attacks and it is not a simple answer. In fact it is not even a good question. What is Panic Disorder? Is not even a good question? Panic Disorder is defined by a number of studies as if one had a normal anxiety response to anything and it was something as simple as an increase in heart rate then it would be considered a Panic Attack. It is not. Panic Disorder is defined by a combination of many things that affect your heart rate including everything from anxiety disorders to caffeine induced heart rate and it is a combination of many different things many of which do not have answers. And let me tell you something right now if someone were to ask me if they were having a Panic Attack I would not tell them.\n",
            "\n",
            "\n",
            "\n",
            "\n",
            "Panic attacks and their causes  in children with cerebral palsy. To identify and characterize the psychiatric and medical features of children seen in child psychiatry emergency departments (ED) who had suffered a previous panic attack. The authors conducted a questionnairebased study of all the children seen in the ED at the Children's Hospital of Kansas City (ChK) between April and May 00 Thirtythree children with cerebral palsy presented for secondary care child psychiatry ED. Fortyfive percent had previously experienced a panic attack. The most common psychiatric diagnoses were posttraumatic stress disorder (PTSD) (%) obsessive compulsive disorder (OCD) (%) and attentiondeficit/hyperactivity disorder (ADHD) (%). Fortyone percent of the children were taking medication for ADHD symptoms and % were taking medication for OCD symptoms. Fortyseven percent of the children were taking medication for both ADHD and OCD. Fiftyfive percent of the children had witnessed a real or imaginary incident that provoked them to feel \"uncomfortable\" or \"disturbed\" during the past week. Fiftynine percent of the children were taking medication for panic attacks. There was no significant difference in the prevalence of panic attacks in children who had suffered a panic attack prior to being seen in child psychiatry compared with children who had not suffered a panic attack. Children who have suffered a panic attack are seen in the child psychiatry ED.\n",
            "\n",
            "\n",
            "\n",
            "\n",
            "\n",
            "\n",
            "\n",
            "\n",
            "\n",
            "\n",
            "\n",
            "\n",
            "\n",
            "\n",
            "\n",
            "\n",
            "Final Choice :- Panic attacks and their causes  in children with cerebral palsy. To identify and characterize the psychiatric and medical features of children seen in child psychiatry emergency departments (ED) who had suffered a previous panic attack. The authors conducted a questionnairebased study of all the children seen in the ED at the Children's Hospital of Kansas City (ChK) between April and May 00 Thirtythree children with cerebral palsy presented for secondary care child psychiatry ED. Fortyfive percent had previously experienced a panic attack. The most common psychiatric diagnoses were posttraumatic stress disorder (PTSD) (%) obsessive compulsive disorder (OCD) (%) and attentiondeficit/hyperactivity disorder (ADHD) (%). Fortyone percent of the children were taking medication for ADHD symptoms and % were taking medication for OCD symptoms. Fortyseven percent of the children were taking medication for both ADHD and OCD. Fiftyfive percent of the children had witnessed a real or imaginary incident that provoked them to feel \"uncomfortable\" or \"disturbed\" during the past week. Fiftynine percent of the children were taking medication for panic attacks. There was no significant difference in the prevalence of panic attacks in children who had suffered a panic attack prior to being seen in child psychiatry compared with children who had not suffered a panic attack. Children who have suffered a panic attack are seen in the child psychiatry ED.\n",
            "\n",
            "\n",
            "Her ['sci', 'med']\n",
            "['talk', 'politics', 'mideast']\n",
            "yhere\n",
            "['sci', 'med']\n",
            "['soc', 'religion', 'christian']\n",
            "Relacance 0\n",
            "\n",
            "\n",
            "\n",
            "\n",
            "\n",
            "\n",
            "Original Predictio :-  ['sci', 'med']\n",
            "\n",
            "\n",
            "Predictio :-  ['soc', 'religion', 'christian']\n",
            "Acuyuracyt 0\n",
            "Acuyuracyt Final 0\n",
            "0.22851241814535417 Latentssssss\n",
            "Hereeadasdasd 0.21516762653877936\n"
          ]
        },
        {
          "output_type": "stream",
          "name": "stderr",
          "text": [
            "INFO:werkzeug:127.0.0.1 - - [26/Sep/2022 17:13:49] \"\u001b[37mGET /GenerateWithSTEK12 HTTP/1.1\u001b[0m\" 200 -\n",
            "The attention mask and the pad token id were not set. As a consequence, you may observe unexpected behavior. Please pass your input's `attention_mask` to obtain reliable results.\n",
            "Setting `pad_token_id` to `eos_token_id`:50256 for open-end generation.\n"
          ]
        },
        {
          "output_type": "stream",
          "name": "stdout",
          "text": [
            "causes\n",
            "she\n",
            "she\n",
            "She\n",
            "She\n",
            "She\n",
            "She\n",
            "sri lanka\n",
            "sri lanka\n",
            "england\n",
            "england\n",
            "hunting\n",
            "hunting\n",
            "hunting\n",
            "hunting\n",
            "hunting\n",
            "hunting\n",
            "none\n",
            "none\n",
            "none\n",
            "none\n",
            "none\n",
            "none\n",
            "none\n",
            "none\n",
            "none\n",
            "none\n",
            "none\n",
            "none\n",
            "none\n",
            "none\n",
            "none\n",
            "none\n",
            "none\n",
            "none\n",
            "none\n",
            "none\n",
            "none\n",
            "none\n",
            "Gnerating 1\n"
          ]
        },
        {
          "output_type": "stream",
          "name": "stderr",
          "text": [
            "The attention mask and the pad token id were not set. As a consequence, you may observe unexpected behavior. Please pass your input's `attention_mask` to obtain reliable results.\n",
            "Setting `pad_token_id` to `eos_token_id`:50256 for open-end generation.\n"
          ]
        },
        {
          "output_type": "stream",
          "name": "stdout",
          "text": [
            "\n",
            "\n",
            "\n",
            "\n",
            "Generating Two\n",
            "\n",
            "\n",
            "\n",
            "\n",
            "Panic attacks and their causes  in a sample of clinical psychiatric inpatients with severe mental illness. Positivitynegativity bias (PNB) a wellknown symptom in psychiatric inpatients has been reported in research on borderline and narcissistic personality disorders schizophrenia and obsessivecompulsive disorder as well as in a few other studies on borderline personality disorder. The aim of this research was to examine the role of PNB in the psychopathology of psychiatric inpatients with a view to its possible impact on inpatient treatment outcome. A sample of  psychiatric inpatients with severe mental illness was examined with clinical diagnostic interviews conducted using a structured protocol for DSMIV criteria. Onefactor confirmatory factor analysis (CFA) was conducted on an item set consisting of the three most frequent and persistent PNB symptoms. Results were consistent with previous results on PNB in mental health outpatients but in addition identified three factor solutions for the PNB subscale of the Symptom Checklist0R four for the Inventory of Interpersonal ProblemsRevised and two for the Inventory of Interpersonal ProblemsRevised (IIPR) and the Symptom Checklist0R (SCL0R). These factor solutions were interpreted in terms of different hypotheses or dimensions of PNB.\n",
            "\n",
            "\n",
            "\n",
            "\n",
            "Panic attacks and their causes  This is the first in a series of related articles. Panic attacks are panic attacks that are caused by negative emotions such as fear terror or depression and are related to fear of the future. Panic attacks can stem from a variety of causes which can include physical or mental problems or a combination of the two. Causes of panic attacks A variety of physical and mental problems can lead to an attack including the loss of a loved one due to a sudden and unexpected death severe abuse by an adult or toddler a stroke some types of head trauma a brain tumor kidney failure and other rare conditions. It is important to note that some people experience panic attacks even when they have no physical or mental disease as it can be a normal response to unexpected events such as the loss of a loved one. In some cases the feeling of being overwhelmed and vulnerable can be so intense that it makes it difficult to think clearly. Causes of panic attacks are varied including a variety of physical and mental conditions. Common causes of panic attacks are broken bones in the head loss of a loved one stroke strokerelated problems and even pregnancy. Other common causes of panic attacks are a loss of a loved one due to a sudden and unexpected death a stroke and a brain tumor.\n",
            "\n",
            "\n",
            "\n",
            "\n",
            "\n",
            "\n",
            "\n",
            "\n",
            "\n",
            "\n",
            "\n",
            "\n",
            "\n",
            "\n",
            "\n",
            "\n",
            "Final Choice :- Panic attacks and their causes  This is the first in a series of related articles. Panic attacks are panic attacks that are caused by negative emotions such as fear terror or depression and are related to fear of the future. Panic attacks can stem from a variety of causes which can include physical or mental problems or a combination of the two. Causes of panic attacks A variety of physical and mental problems can lead to an attack including the loss of a loved one due to a sudden and unexpected death severe abuse by an adult or toddler a stroke some types of head trauma a brain tumor kidney failure and other rare conditions. It is important to note that some people experience panic attacks even when they have no physical or mental disease as it can be a normal response to unexpected events such as the loss of a loved one. In some cases the feeling of being overwhelmed and vulnerable can be so intense that it makes it difficult to think clearly. Causes of panic attacks are varied including a variety of physical and mental conditions. Common causes of panic attacks are broken bones in the head loss of a loved one stroke strokerelated problems and even pregnancy. Other common causes of panic attacks are a loss of a loved one due to a sudden and unexpected death a stroke and a brain tumor.\n",
            "\n",
            "\n",
            "Her ['sci', 'med']\n",
            "['sci', 'med']\n",
            "Here\n",
            "In here 2\n",
            "Here\n",
            "In Here\n",
            "Here\n",
            "In here 2\n",
            "Here\n",
            "In Here\n",
            "Relacance 2\n",
            "\n",
            "\n",
            "\n",
            "\n",
            "\n",
            "\n",
            "Original Predictio :-  ['sci', 'med']\n",
            "\n",
            "\n",
            "Predictio :-  ['sci', 'med']\n",
            "Acuyuracyt 0\n",
            "Acuyuracyt Final 0\n",
            "0.3592273327019273 Latentssssss\n",
            "Hereeadasdasd 0.37407285776114374\n"
          ]
        },
        {
          "output_type": "stream",
          "name": "stderr",
          "text": [
            "INFO:werkzeug:127.0.0.1 - - [26/Sep/2022 17:17:48] \"\u001b[37mGET /GenerateWithSTEK12 HTTP/1.1\u001b[0m\" 200 -\n",
            "The attention mask and the pad token id were not set. As a consequence, you may observe unexpected behavior. Please pass your input's `attention_mask` to obtain reliable results.\n",
            "Setting `pad_token_id` to `eos_token_id`:50256 for open-end generation.\n"
          ]
        },
        {
          "output_type": "stream",
          "name": "stdout",
          "text": [
            "In Hereeokay 222\n"
          ]
        },
        {
          "output_type": "stream",
          "name": "stderr",
          "text": [
            "INFO:werkzeug:127.0.0.1 - - [26/Sep/2022 17:19:12] \"\u001b[37mGET /GenerateWithoutSTEK HTTP/1.1\u001b[0m\" 200 -\n",
            "The attention mask and the pad token id were not set. As a consequence, you may observe unexpected behavior. Please pass your input's `attention_mask` to obtain reliable results.\n",
            "Setting `pad_token_id` to `eos_token_id`:50256 for open-end generation.\n"
          ]
        },
        {
          "output_type": "stream",
          "name": "stdout",
          "text": [
            "causes\n",
            "she\n",
            "she\n",
            "She\n",
            "She\n",
            "She\n",
            "She\n",
            "sri lanka\n",
            "sri lanka\n",
            "england\n",
            "england\n",
            "hunting\n",
            "hunting\n",
            "hunting\n",
            "hunting\n",
            "hunting\n",
            "hunting\n",
            "none\n",
            "none\n",
            "none\n",
            "none\n",
            "none\n",
            "none\n",
            "none\n",
            "none\n",
            "none\n",
            "none\n",
            "none\n",
            "none\n",
            "none\n",
            "none\n",
            "none\n",
            "none\n",
            "none\n",
            "none\n",
            "none\n",
            "none\n",
            "none\n",
            "none\n",
            "none\n",
            "none\n",
            "Gnerating 1\n"
          ]
        },
        {
          "output_type": "stream",
          "name": "stderr",
          "text": [
            "The attention mask and the pad token id were not set. As a consequence, you may observe unexpected behavior. Please pass your input's `attention_mask` to obtain reliable results.\n",
            "Setting `pad_token_id` to `eos_token_id`:50256 for open-end generation.\n"
          ]
        },
        {
          "output_type": "stream",
          "name": "stdout",
          "text": [
            "\n",
            "\n",
            "\n",
            "\n",
            "Generating Two\n"
          ]
        }
      ],
      "source": [
        "run_with_ngrok(app)\n",
        "app.run()"
      ]
    },
    {
      "cell_type": "markdown",
      "metadata": {
        "id": "c6-fLmznuZ8S"
      },
      "source": [
        "---\n",
        "\n",
        "\n",
        "\n",
        "\n",
        "---"
      ]
    },
    {
      "cell_type": "markdown",
      "metadata": {
        "id": "dSnZ3ZkCubCa"
      },
      "source": [
        "---\n",
        "\n",
        "\n",
        "\n",
        "\n",
        "---"
      ]
    },
    {
      "cell_type": "code",
      "execution_count": null,
      "metadata": {
        "id": "0wY9oHl-0a8j"
      },
      "outputs": [],
      "source": []
    },
    {
      "cell_type": "markdown",
      "metadata": {
        "id": "cazfuu_uufrZ"
      },
      "source": [
        "-------------------\n",
        "\n",
        "\n",
        ">**Tests / Debugs**\n",
        "\n",
        "\n",
        "---"
      ]
    },
    {
      "cell_type": "code",
      "execution_count": null,
      "metadata": {
        "colab": {
          "base_uri": "https://localhost:8080/"
        },
        "id": "LOzNVgeCxTnT",
        "outputId": "4dc88050-d8c2-4119-ad42-f78560eb4f80"
      },
      "outputs": [
        {
          "name": "stdout",
          "output_type": "stream",
          "text": [
            "[nltk_data] Downloading package wordnet to /root/nltk_data...\n",
            "[nltk_data]   Unzipping corpora/wordnet.zip.\n"
          ]
        },
        {
          "data": {
            "text/plain": [
              "True"
            ]
          },
          "execution_count": 18,
          "metadata": {},
          "output_type": "execute_result"
        }
      ],
      "source": []
    },
    {
      "cell_type": "code",
      "execution_count": null,
      "metadata": {
        "colab": {
          "base_uri": "https://localhost:8080/"
        },
        "id": "CcFEwctlqL-N",
        "outputId": "4f20f7db-7a41-4761-99b7-eb8253fb1097"
      },
      "outputs": [
        {
          "output_type": "stream",
          "name": "stdout",
          "text": [
            "['worst', 'pip', 'mop_up', 'whip', 'rack_up', 'bad', 'big', 'tough', 'spoiled', 'spoilt', 'regretful', 'sorry', 'uncollectible', 'risky', 'high-risk', 'speculative', 'unfit', 'unsound', 'forged', 'defective']\n"
          ]
        }
      ],
      "source": [
        "syn=GetSynonyms(\"Worst\")\n",
        "\n",
        "uniqueLiost=unique(syn)\n",
        "\n",
        "print (uniqueLiost)"
      ]
    },
    {
      "cell_type": "markdown",
      "metadata": {
        "id": "X6-Rvz8uuk60"
      },
      "source": [
        "---------------------\n",
        "\n",
        "\n",
        "\n",
        "\n",
        "---"
      ]
    },
    {
      "cell_type": "markdown",
      "metadata": {
        "id": "1BICXoeFumFp"
      },
      "source": [
        "---\n",
        "\n",
        "\n",
        "\n",
        "\n",
        "---"
      ]
    },
    {
      "cell_type": "code",
      "execution_count": null,
      "metadata": {
        "id": "FWY2It89oJGG"
      },
      "outputs": [],
      "source": [
        "import numpy as np\n",
        "import matplotlib.pyplot as pltasdasd\n",
        "import seaborn as sns; sns.set()\n",
        "from sklearn.datasets import fetch_20newsgroups\n",
        "from sklearn.feature_extraction.text import TfidfVectorizer as TfG\n",
        "from sklearn.naive_bayes import MultinomialNB as Mutli\n",
        "from sklearn.pipeline import make_pipeline as NewPipe\n",
        "from sklearn.metrics import confusion_matrix as Cong"
      ]
    },
    {
      "cell_type": "code",
      "execution_count": null,
      "metadata": {
        "id": "4O4f45UQiNyt",
        "colab": {
          "base_uri": "https://localhost:8080/",
          "height": 459
        },
        "outputId": "0068596e-38ee-4821-dd4f-30fe8e00be15"
      },
      "outputs": [
        {
          "output_type": "stream",
          "name": "stdout",
          "text": [
            "11314\n"
          ]
        },
        {
          "output_type": "execute_result",
          "data": {
            "text/plain": [
              "Text(89.17999999999999, 0.5, 'predict label')"
            ]
          },
          "metadata": {},
          "execution_count": 102
        },
        {
          "output_type": "display_data",
          "data": {
            "text/plain": [
              "<Figure size 432x288 with 1 Axes>"
            ],
            "image/png": "[encoded data removed]"
          },
          "metadata": {}
        }
      ],
      "source": [
        "data=fetch_20newsgroups()\n",
        "data.target_names\n",
        "categories=data.target_names\n",
        "train=fetch_20newsgroups(subset='train',categories=categories)\n",
        "test=fetch_20newsgroups(subset='train',categories=categories)\n",
        "print(len(train.data))\n",
        "modelNew=NewPipe(TfG(),Mutli())\n",
        "modelNew.fit(train.data,train.target)\n",
        "labels=modelNew.predict(test.data)\n",
        "mat= Cong(test.target,labels)\n",
        "sns.heatmap(mat.T,square=True,annot=True,fmt='d',cbar=False\n",
        "            ,xticklabels=train.target_names\n",
        "            ,yticklabels=train.target_names)\n",
        "pltasdasd.xlabel('true label')\n",
        "pltasdasd.ylabel('predict label')"
      ]
    },
    {
      "cell_type": "code",
      "execution_count": null,
      "metadata": {
        "id": "K9tTqpF_ilpU"
      },
      "outputs": [],
      "source": [
        "def predict_category(s,train=train,model=modelNew):\n",
        "  pred=model.predict([s])\n",
        "  return train.target_names[pred[0]]"
      ]
    },
    {
      "cell_type": "code",
      "execution_count": null,
      "metadata": {
        "colab": {
          "base_uri": "https://localhost:8080/"
        },
        "id": "mugqE6PkioVl",
        "outputId": "c03e9020-406b-44e2-c8a4-265278eb3dd9"
      },
      "outputs": [
        {
          "output_type": "stream",
          "name": "stdout",
          "text": [
            "rec\n",
            "autos\n"
          ]
        }
      ],
      "source": [
        "dataxxx=predict_category(GetLast(\"Your first time driving\"))\n",
        "newDaara=dataxxx.split('.')\n",
        "newDaara[0]\n",
        "size=len(newDaara)\n",
        "for x in range (0,size):\n",
        "  print(newDaara[x])"
      ]
    },
    {
      "cell_type": "code",
      "execution_count": null,
      "metadata": {
        "id": "Jvidzz7kitJ9"
      },
      "outputs": [],
      "source": [
        "def GetLast(text):\n",
        "  Subject=get_subject_phrase(nlp(text))\n",
        "  last =(getlast(text))\n",
        "  newSub=str(Subject)\n",
        "  return last\n"
      ]
    },
    {
      "cell_type": "code",
      "execution_count": null,
      "metadata": {
        "colab": {
          "base_uri": "https://localhost:8080/"
        },
        "id": "J4ox2KG9_gZE",
        "outputId": "769733df-62de-4f3f-d7ae-fc8f95277ea1"
      },
      "outputs": [
        {
          "output_type": "stream",
          "name": "stdout",
          "text": [
            "fear\n"
          ]
        }
      ],
      "source": [
        "print (GetLast(\"He  biggest fear\"))"
      ]
    }
  ],
  "metadata": {
    "colab": {
      "collapsed_sections": [],
      "machine_shape": "hm",
      "provenance": [],
      "authorship_tag": "ABX9TyNgMDyjzFgMZB9M/aclJIGj",
      "include_colab_link": true
    },
    "gpuClass": "standard",
    "kernelspec": {
      "display_name": "Python 3",
      "name": "python3"
    },
    "language_info": {
      "name": "python"
    }
  },
  "nbformat": 4,
  "nbformat_minor": 0
}